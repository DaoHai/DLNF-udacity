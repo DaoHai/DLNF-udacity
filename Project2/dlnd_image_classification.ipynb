{
 "cells": [
  {
   "cell_type": "markdown",
   "metadata": {
    "collapsed": true,
    "deletable": true,
    "editable": true
   },
   "source": [
    "# Image Classification\n",
    "In this project, you'll classify images from the [CIFAR-10 dataset](https://www.cs.toronto.edu/~kriz/cifar.html).  The dataset consists of airplanes, dogs, cats, and other objects. You'll preprocess the images, then train a convolutional neural network on all the samples. The images need to be normalized and the labels need to be one-hot encoded.  You'll get to apply what you learned and build a convolutional, max pooling, dropout, and fully connected layers.  At the end, you'll get to see your neural network's predictions on the sample images.\n",
    "## Get the Data\n",
    "Run the following cell to download the [CIFAR-10 dataset for python](https://www.cs.toronto.edu/~kriz/cifar-10-python.tar.gz)."
   ]
  },
  {
   "cell_type": "code",
   "execution_count": 1,
   "metadata": {
    "collapsed": false,
    "deletable": true,
    "editable": true
   },
   "outputs": [
    {
     "name": "stdout",
     "output_type": "stream",
     "text": [
      "All files found!\n"
     ]
    }
   ],
   "source": [
    "\"\"\"\n",
    "DON'T MODIFY ANYTHING IN THIS CELL THAT IS BELOW THIS LINE\n",
    "\"\"\"\n",
    "from urllib.request import urlretrieve\n",
    "from os.path import isfile, isdir\n",
    "from tqdm import tqdm\n",
    "import problem_unittests as tests\n",
    "import tarfile\n",
    "\n",
    "cifar10_dataset_folder_path = 'cifar-10-batches-py'\n",
    "\n",
    "class DLProgress(tqdm):\n",
    "    last_block = 0\n",
    "\n",
    "    def hook(self, block_num=1, block_size=1, total_size=None):\n",
    "        self.total = total_size\n",
    "        self.update((block_num - self.last_block) * block_size)\n",
    "        self.last_block = block_num\n",
    "\n",
    "if not isfile('cifar-10-python.tar.gz'):\n",
    "    with DLProgress(unit='B', unit_scale=True, miniters=1, desc='CIFAR-10 Dataset') as pbar:\n",
    "        urlretrieve(\n",
    "            'https://www.cs.toronto.edu/~kriz/cifar-10-python.tar.gz',\n",
    "            'cifar-10-python.tar.gz',\n",
    "            pbar.hook)\n",
    "\n",
    "if not isdir(cifar10_dataset_folder_path):\n",
    "    with tarfile.open('cifar-10-python.tar.gz') as tar:\n",
    "        tar.extractall()\n",
    "        tar.close()\n",
    "\n",
    "\n",
    "tests.test_folder_path(cifar10_dataset_folder_path)"
   ]
  },
  {
   "cell_type": "markdown",
   "metadata": {
    "deletable": true,
    "editable": true
   },
   "source": [
    "## Explore the Data\n",
    "The dataset is broken into batches to prevent your machine from running out of memory.  The CIFAR-10 dataset consists of 5 batches, named `data_batch_1`, `data_batch_2`, etc.. Each batch contains the labels and images that are one of the following:\n",
    "* airplane\n",
    "* automobile\n",
    "* bird\n",
    "* cat\n",
    "* deer\n",
    "* dog\n",
    "* frog\n",
    "* horse\n",
    "* ship\n",
    "* truck\n",
    "\n",
    "Understanding a dataset is part of making predictions on the data.  Play around with the code cell below by changing the `batch_id` and `sample_id`. The `batch_id` is the id for a batch (1-5). The `sample_id` is the id for a image and label pair in the batch.\n",
    "\n",
    "Ask yourself \"What are all possible labels?\", \"What is the range of values for the image data?\", \"Are the labels in order or random?\".  Answers to questions like these will help you preprocess the data and end up with better predictions."
   ]
  },
  {
   "cell_type": "code",
   "execution_count": 2,
   "metadata": {
    "collapsed": false,
    "deletable": true,
    "editable": true
   },
   "outputs": [
    {
     "name": "stdout",
     "output_type": "stream",
     "text": [
      "\n",
      "Stats of batch 1:\n",
      "Samples: 10000\n",
      "Label Counts: {0: 1005, 1: 974, 2: 1032, 3: 1016, 4: 999, 5: 937, 6: 1030, 7: 1001, 8: 1025, 9: 981}\n",
      "First 20 Labels: [6, 9, 9, 4, 1, 1, 2, 7, 8, 3, 4, 7, 7, 2, 9, 9, 9, 3, 2, 6]\n",
      "\n",
      "Example of Image 5:\n",
      "Image - Min Value: 0 Max Value: 252\n",
      "Image - Shape: (32, 32, 3)\n",
      "Label - Label Id: 1 Name: automobile\n"
     ]
    },
    {
     "data": {
      "image/png": "[encoded data removed]",
      "text/plain": [
       "<matplotlib.figure.Figure at 0x7f3e043cc470>"
      ]
     },
     "metadata": {
      "image/png": {
       "height": 250,
       "width": 253
      }
     },
     "output_type": "display_data"
    }
   ],
   "source": [
    "%matplotlib inline\n",
    "%config InlineBackend.figure_format = 'retina'\n",
    "\n",
    "import helper\n",
    "import numpy as np\n",
    "\n",
    "# Explore the dataset\n",
    "batch_id = 1\n",
    "sample_id = 5\n",
    "helper.display_stats(cifar10_dataset_folder_path, batch_id, sample_id)"
   ]
  },
  {
   "cell_type": "markdown",
   "metadata": {
    "deletable": true,
    "editable": true
   },
   "source": [
    "## Implement Preprocess Functions\n",
    "### Normalize\n",
    "In the cell below, implement the `normalize` function to take in image data, `x`, and return it as a normalized Numpy array. The values should be in the range of 0 to 1, inclusive.  The return object should be the same shape as `x`."
   ]
  },
  {
   "cell_type": "code",
   "execution_count": 3,
   "metadata": {
    "collapsed": false,
    "deletable": true,
    "editable": true
   },
   "outputs": [
    {
     "name": "stdout",
     "output_type": "stream",
     "text": [
      "Tests Passed\n"
     ]
    }
   ],
   "source": [
    "def normalize(x):\n",
    "    \"\"\"\n",
    "    Normalize a list of sample image data in the range of 0 to 1\n",
    "    : x: List of image data.  The image shape is (32, 32, 3)\n",
    "    : return: Numpy array of normalize data\n",
    "    \"\"\"\n",
    "    # TODO: Implement Function\n",
    "    return (x-x.min())/(x.max()-x.min())\n",
    "\n",
    "\n",
    "\"\"\"\n",
    "DON'T MODIFY ANYTHING IN THIS CELL THAT IS BELOW THIS LINE\n",
    "\"\"\"\n",
    "tests.test_normalize(normalize)"
   ]
  },
  {
   "cell_type": "markdown",
   "metadata": {
    "deletable": true,
    "editable": true
   },
   "source": [
    "### One-hot encode\n",
    "Just like the previous code cell, you'll be implementing a function for preprocessing.  This time, you'll implement the `one_hot_encode` function. The input, `x`, are a list of labels.  Implement the function to return the list of labels as One-Hot encoded Numpy array.  The possible values for labels are 0 to 9. The one-hot encoding function should return the same encoding for each value between each call to `one_hot_encode`.  Make sure to save the map of encodings outside the function.\n",
    "\n",
    "Hint: Don't reinvent the wheel."
   ]
  },
  {
   "cell_type": "code",
   "execution_count": 4,
   "metadata": {
    "collapsed": false,
    "deletable": true,
    "editable": true
   },
   "outputs": [
    {
     "name": "stdout",
     "output_type": "stream",
     "text": [
      "Tests Passed\n"
     ]
    }
   ],
   "source": [
    "def one_hot_encode(x):\n",
    "    \"\"\"\n",
    "    One hot encode a list of sample labels. Return a one-hot encoded vector for each label.\n",
    "    : x: List of sample Labels\n",
    "    : return: Numpy array of one-hot encoded labels\n",
    "    \"\"\"\n",
    "    # TODO: Implement Function\n",
    "    a = np.zeros((len(x), 10)) #known label range: 0-9\n",
    "    for i, j in enumerate(x):\n",
    "        a[i, j] = 1\n",
    "        \n",
    "    return a\n",
    "\n",
    "\n",
    "\"\"\"\n",
    "DON'T MODIFY ANYTHING IN THIS CELL THAT IS BELOW THIS LINE\n",
    "\"\"\"\n",
    "tests.test_one_hot_encode(one_hot_encode)"
   ]
  },
  {
   "cell_type": "markdown",
   "metadata": {
    "deletable": true,
    "editable": true
   },
   "source": [
    "### Randomize Data\n",
    "As you saw from exploring the data above, the order of the samples are randomized.  It doesn't hurt to randomize it again, but you don't need to for this dataset."
   ]
  },
  {
   "cell_type": "markdown",
   "metadata": {
    "deletable": true,
    "editable": true
   },
   "source": [
    "## Preprocess all the data and save it\n",
    "Running the code cell below will preprocess all the CIFAR-10 data and save it to file. The code below also uses 10% of the training data for validation."
   ]
  },
  {
   "cell_type": "code",
   "execution_count": 5,
   "metadata": {
    "collapsed": false,
    "deletable": true,
    "editable": true
   },
   "outputs": [],
   "source": [
    "\"\"\"\n",
    "DON'T MODIFY ANYTHING IN THIS CELL\n",
    "\"\"\"\n",
    "# Preprocess Training, Validation, and Testing Data\n",
    "helper.preprocess_and_save_data(cifar10_dataset_folder_path, normalize, one_hot_encode)"
   ]
  },
  {
   "cell_type": "markdown",
   "metadata": {
    "deletable": true,
    "editable": true
   },
   "source": [
    "# Check Point\n",
    "This is your first checkpoint.  If you ever decide to come back to this notebook or have to restart the notebook, you can start from here.  The preprocessed data has been saved to disk."
   ]
  },
  {
   "cell_type": "code",
   "execution_count": 6,
   "metadata": {
    "collapsed": true,
    "deletable": true,
    "editable": true
   },
   "outputs": [],
   "source": [
    "\"\"\"\n",
    "DON'T MODIFY ANYTHING IN THIS CELL\n",
    "\"\"\"\n",
    "import pickle\n",
    "import problem_unittests as tests\n",
    "import helper\n",
    "\n",
    "# Load the Preprocessed Validation data\n",
    "valid_features, valid_labels = pickle.load(open('preprocess_validation.p', mode='rb'))"
   ]
  },
  {
   "cell_type": "markdown",
   "metadata": {
    "deletable": true,
    "editable": true
   },
   "source": [
    "## Build the network\n",
    "For the neural network, you'll build each layer into a function.  Most of the code you've seen has been outside of functions. To test your code more thoroughly, we require that you put each layer in a function.  This allows us to give you better feedback and test for simple mistakes using our unittests before you submit your project.\n",
    "\n",
    ">**Note:** If you're finding it hard to dedicate enough time for this course each week, we've provided a small shortcut to this part of the project. In the next couple of problems, you'll have the option to use classes from the [TensorFlow Layers](https://www.tensorflow.org/api_docs/python/tf/layers) or [TensorFlow Layers (contrib)](https://www.tensorflow.org/api_guides/python/contrib.layers) packages to build each layer, except the layers you build in the \"Convolutional and Max Pooling Layer\" section.  TF Layers is similar to Keras's and TFLearn's abstraction to layers, so it's easy to pickup.\n",
    "\n",
    ">However, if you would like to get the most out of this course, try to solve all the problems _without_ using anything from the TF Layers packages. You **can** still use classes from other packages that happen to have the same name as ones you find in TF Layers! For example, instead of using the TF Layers version of the `conv2d` class, [tf.layers.conv2d](https://www.tensorflow.org/api_docs/python/tf/layers/conv2d), you would want to use the TF Neural Network version of `conv2d`, [tf.nn.conv2d](https://www.tensorflow.org/api_docs/python/tf/nn/conv2d). \n",
    "\n",
    "Let's begin!\n",
    "\n",
    "### Input\n",
    "The neural network needs to read the image data, one-hot encoded labels, and dropout keep probability. Implement the following functions\n",
    "* Implement `neural_net_image_input`\n",
    " * Return a [TF Placeholder](https://www.tensorflow.org/api_docs/python/tf/placeholder)\n",
    " * Set the shape using `image_shape` with batch size set to `None`.\n",
    " * Name the TensorFlow placeholder \"x\" using the TensorFlow `name` parameter in the [TF Placeholder](https://www.tensorflow.org/api_docs/python/tf/placeholder).\n",
    "* Implement `neural_net_label_input`\n",
    " * Return a [TF Placeholder](https://www.tensorflow.org/api_docs/python/tf/placeholder)\n",
    " * Set the shape using `n_classes` with batch size set to `None`.\n",
    " * Name the TensorFlow placeholder \"y\" using the TensorFlow `name` parameter in the [TF Placeholder](https://www.tensorflow.org/api_docs/python/tf/placeholder).\n",
    "* Implement `neural_net_keep_prob_input`\n",
    " * Return a [TF Placeholder](https://www.tensorflow.org/api_docs/python/tf/placeholder) for dropout keep probability.\n",
    " * Name the TensorFlow placeholder \"keep_prob\" using the TensorFlow `name` parameter in the [TF Placeholder](https://www.tensorflow.org/api_docs/python/tf/placeholder).\n",
    "\n",
    "These names will be used at the end of the project to load your saved model.\n",
    "\n",
    "Note: `None` for shapes in TensorFlow allow for a dynamic size."
   ]
  },
  {
   "cell_type": "code",
   "execution_count": 7,
   "metadata": {
    "collapsed": false,
    "deletable": true,
    "editable": true
   },
   "outputs": [
    {
     "name": "stdout",
     "output_type": "stream",
     "text": [
      "Image Input Tests Passed.\n",
      "Label Input Tests Passed.\n",
      "Keep Prob Tests Passed.\n"
     ]
    }
   ],
   "source": [
    "import tensorflow as tf\n",
    "\n",
    "def neural_net_image_input(image_shape):\n",
    "    \"\"\"\n",
    "    Return a Tensor for a bach of image input\n",
    "    : image_shape: Shape of the images\n",
    "    : return: Tensor for image input.\n",
    "    \"\"\"\n",
    "    # TODO: Implement Function\n",
    "    shape = [None]\n",
    "    for i in image_shape:\n",
    "        shape.append(i)\n",
    "        \n",
    "    x = tf.placeholder(tf.float32, shape=shape, name='x')\n",
    "    return x\n",
    "\n",
    "\n",
    "def neural_net_label_input(n_classes):\n",
    "    \"\"\"\n",
    "    Return a Tensor for a batch of label input\n",
    "    : n_classes: Number of classes\n",
    "    : return: Tensor for label input.\n",
    "    \"\"\"\n",
    "    # TODO: Implement Function\n",
    "    y = tf.placeholder(tf.float32, shape=[None, n_classes], name='y')\n",
    "    return y\n",
    "\n",
    "\n",
    "def neural_net_keep_prob_input():\n",
    "    \"\"\"\n",
    "    Return a Tensor for keep probability\n",
    "    : return: Tensor for keep probability.\n",
    "    \"\"\"\n",
    "    # TODO: Implement Function\n",
    "    keep_prob = tf.placeholder(tf.float32, shape=None, name='keep_prob')\n",
    "    return keep_prob\n",
    "\n",
    "\n",
    "\"\"\"\n",
    "DON'T MODIFY ANYTHING IN THIS CELL THAT IS BELOW THIS LINE\n",
    "\"\"\"\n",
    "tf.reset_default_graph()\n",
    "tests.test_nn_image_inputs(neural_net_image_input)\n",
    "tests.test_nn_label_inputs(neural_net_label_input)\n",
    "tests.test_nn_keep_prob_inputs(neural_net_keep_prob_input)"
   ]
  },
  {
   "cell_type": "markdown",
   "metadata": {
    "deletable": true,
    "editable": true
   },
   "source": [
    "### Convolution and Max Pooling Layer\n",
    "Convolution layers have a lot of success with images. For this code cell, you should implement the function `conv2d_maxpool` to apply convolution then max pooling:\n",
    "* Create the weight and bias using `conv_ksize`, `conv_num_outputs` and the shape of `x_tensor`.\n",
    "* Apply a convolution to `x_tensor` using weight and `conv_strides`.\n",
    " * We recommend you use same padding, but you're welcome to use any padding.\n",
    "* Add bias\n",
    "* Add a nonlinear activation to the convolution.\n",
    "* Apply Max Pooling using `pool_ksize` and `pool_strides`.\n",
    " * We recommend you use same padding, but you're welcome to use any padding.\n",
    "\n",
    "**Note:** You **can't** use [TensorFlow Layers](https://www.tensorflow.org/api_docs/python/tf/layers) or [TensorFlow Layers (contrib)](https://www.tensorflow.org/api_guides/python/contrib.layers) for **this** layer, but you can still use TensorFlow's [Neural Network](https://www.tensorflow.org/api_docs/python/tf/nn) package. You may still use the shortcut option for all the **other** layers."
   ]
  },
  {
   "cell_type": "code",
   "execution_count": 8,
   "metadata": {
    "collapsed": false,
    "deletable": true,
    "editable": true
   },
   "outputs": [
    {
     "name": "stdout",
     "output_type": "stream",
     "text": [
      "Tests Passed\n"
     ]
    }
   ],
   "source": [
    "def conv2d_maxpool(x_tensor, conv_num_outputs, conv_ksize, conv_strides, pool_ksize, pool_strides):\n",
    "    \"\"\"\n",
    "    Apply convolution then max pooling to x_tensor\n",
    "    :param x_tensor: TensorFlow Tensor\n",
    "    :param conv_num_outputs: Number of outputs for the convolutional layer\n",
    "    :param conv_ksize: kernal size 2-D Tuple for the convolutional layer\n",
    "    :param conv_strides: Stride 2-D Tuple for convolution\n",
    "    :param pool_ksize: kernal size 2-D Tuple for pool\n",
    "    :param pool_strides: Stride 2-D Tuple for pool\n",
    "    : return: A tensor that represents convolution and max pooling of x_tensor\n",
    "    \"\"\"\n",
    "    # TODO: Implement Function\n",
    "    # Create weight and bias\n",
    "    num_input_channels = x_tensor.get_shape().as_list()[-1]\n",
    "    conv_ksize_x, conv_ksize_y = conv_ksize\n",
    "    w_shape = [conv_ksize_x, conv_ksize_y, num_input_channels, conv_num_outputs]\n",
    "    #weights = tf.Variable(tf.random_normal(w_shape))\n",
    "    weights = tf.Variable(tf.truncated_normal(w_shape, stddev=0.08))\n",
    "    bias = tf.Variable(tf.random_normal([conv_num_outputs]))\n",
    "    \n",
    "    # Apply a convolution to x_tensor using weight and conv_strides, padding =\"SAME\"\n",
    "    conv_strides_x, conv_strides_y = conv_strides\n",
    "    conv_layer = tf.nn.conv2d(x_tensor, weights, strides=[1, conv_strides_x, conv_strides_y, 1], padding='SAME')\n",
    "    # Add bias\n",
    "    conv_layer = tf.nn.bias_add(conv_layer, bias)\n",
    "    # Add a nonlinear activation to the convolution.\n",
    "    conv_layer = tf.nn.relu(conv_layer)\n",
    "    # Apply Max Pooling using pool_ksize and pool_strides.\n",
    "    pool_ksize_x, pool_ksize_y = pool_ksize\n",
    "    pool_strides_x, pool_strides_y = pool_strides\n",
    "    \n",
    "    conv_layer = tf.nn.max_pool(value=conv_layer,\n",
    "                               ksize=[1, pool_ksize_x, pool_ksize_y, 1],\n",
    "                               strides=[1, pool_strides_x, pool_strides_y, 1],\n",
    "                               padding='SAME')\n",
    "    \n",
    "    return conv_layer \n",
    "\n",
    "\n",
    "\"\"\"\n",
    "DON'T MODIFY ANYTHING IN THIS CELL THAT IS BELOW THIS LINE\n",
    "\"\"\"\n",
    "tests.test_con_pool(conv2d_maxpool)"
   ]
  },
  {
   "cell_type": "markdown",
   "metadata": {
    "deletable": true,
    "editable": true
   },
   "source": [
    "### Flatten Layer\n",
    "Implement the `flatten` function to change the dimension of `x_tensor` from a 4-D tensor to a 2-D tensor.  The output should be the shape (*Batch Size*, *Flattened Image Size*). Shortcut option: you can use classes from the [TensorFlow Layers](https://www.tensorflow.org/api_docs/python/tf/layers) or [TensorFlow Layers (contrib)](https://www.tensorflow.org/api_guides/python/contrib.layers) packages for this layer. For more of a challenge, only use other TensorFlow packages."
   ]
  },
  {
   "cell_type": "code",
   "execution_count": 9,
   "metadata": {
    "collapsed": false,
    "deletable": true,
    "editable": true
   },
   "outputs": [
    {
     "name": "stdout",
     "output_type": "stream",
     "text": [
      "Tests Passed\n"
     ]
    }
   ],
   "source": [
    "def flatten(x_tensor):\n",
    "    \"\"\"\n",
    "    Flatten x_tensor to (Batch Size, Flattened Image Size)\n",
    "    : x_tensor: A tensor of size (Batch Size, ...), where ... are the image dimensions.\n",
    "    : return: A tensor of size (Batch Size, Flattened Image Size).\n",
    "    \"\"\"\n",
    "    # TODO: Implement Function\n",
    "    # Get the shape of the x_tensor.\n",
    "    layer_shape = x_tensor.get_shape()\n",
    "\n",
    "    # The shape of the input layer is assumed to be:\n",
    "    # layer_shape == [num_images, img_height, img_width, num_channels]\n",
    "\n",
    "    # The number of features is: img_height * img_width * num_channels\n",
    "    # We can use a function from TensorFlow to calculate this.\n",
    "    num_features = layer_shape[1:4].num_elements()\n",
    "    \n",
    "    # Reshape the layer to [num_images, num_features].\n",
    "    # Note that we just set the size of the second dimension\n",
    "    # to num_features and the size of the first dimension to -1\n",
    "    # which means the size in that dimension is calculated\n",
    "    # so the total size of the tensor is unchanged from the reshaping.\n",
    "    layer_flat = tf.reshape(x_tensor, [-1, num_features])\n",
    "\n",
    "    # The shape of the flattened layer is now:\n",
    "    # [num_images, img_height * img_width * num_channels]\n",
    "\n",
    "    # Return the flattened layer\n",
    "    return layer_flat\n",
    "\n",
    "\n",
    "\"\"\"\n",
    "DON'T MODIFY ANYTHING IN THIS CELL THAT IS BELOW THIS LINE\n",
    "\"\"\"\n",
    "tests.test_flatten(flatten)"
   ]
  },
  {
   "cell_type": "markdown",
   "metadata": {
    "deletable": true,
    "editable": true
   },
   "source": [
    "### Fully-Connected Layer\n",
    "Implement the `fully_conn` function to apply a fully connected layer to `x_tensor` with the shape (*Batch Size*, *num_outputs*). Shortcut option: you can use classes from the [TensorFlow Layers](https://www.tensorflow.org/api_docs/python/tf/layers) or [TensorFlow Layers (contrib)](https://www.tensorflow.org/api_guides/python/contrib.layers) packages for this layer. For more of a challenge, only use other TensorFlow packages."
   ]
  },
  {
   "cell_type": "code",
   "execution_count": 10,
   "metadata": {
    "collapsed": false,
    "deletable": true,
    "editable": true
   },
   "outputs": [
    {
     "name": "stdout",
     "output_type": "stream",
     "text": [
      "Tests Passed\n"
     ]
    }
   ],
   "source": [
    "def fully_conn(x_tensor, num_outputs):\n",
    "    \"\"\"\n",
    "    Apply a fully connected layer to x_tensor using weight and bias\n",
    "    : x_tensor: A 2-D tensor where the first dimension is batch size.\n",
    "    : num_outputs: The number of output that the new tensor should be.\n",
    "    : return: A 2-D tensor where the second dimension is num_outputs.\n",
    "    \"\"\"\n",
    "    # TODO: Implement Function\n",
    "    # Create new weights and biases.\n",
    "    w_shape_x = x_tensor.get_shape().as_list()[-1] #number of input features\n",
    "    \n",
    "    #weights = tf.Variable(tf.random_normal([w_shape_x, num_outputs]))\n",
    "    weights = tf.Variable(tf.truncated_normal([w_shape_x, num_outputs], stddev=0.08))\n",
    "    biases = tf.Variable(tf.random_normal([num_outputs]))\n",
    "    # Calculate the layer as the matrix multiplication of\n",
    "    # the input and weights, and then add the bias-values.\n",
    "    layer = tf.matmul(x_tensor, weights) + biases\n",
    "    layer = tf.nn.relu(layer) #apply non-linear activation ReLu\n",
    "    return layer\n",
    "\n",
    "\n",
    "\"\"\"\n",
    "DON'T MODIFY ANYTHING IN THIS CELL THAT IS BELOW THIS LINE\n",
    "\"\"\"\n",
    "tests.test_fully_conn(fully_conn)"
   ]
  },
  {
   "cell_type": "markdown",
   "metadata": {
    "deletable": true,
    "editable": true
   },
   "source": [
    "### Output Layer\n",
    "Implement the `output` function to apply a fully connected layer to `x_tensor` with the shape (*Batch Size*, *num_outputs*). Shortcut option: you can use classes from the [TensorFlow Layers](https://www.tensorflow.org/api_docs/python/tf/layers) or [TensorFlow Layers (contrib)](https://www.tensorflow.org/api_guides/python/contrib.layers) packages for this layer. For more of a challenge, only use other TensorFlow packages.\n",
    "\n",
    "**Note:** Activation, softmax, or cross entropy should **not** be applied to this."
   ]
  },
  {
   "cell_type": "code",
   "execution_count": 11,
   "metadata": {
    "collapsed": false,
    "deletable": true,
    "editable": true
   },
   "outputs": [
    {
     "name": "stdout",
     "output_type": "stream",
     "text": [
      "Tests Passed\n"
     ]
    }
   ],
   "source": [
    "def output(x_tensor, num_outputs):\n",
    "    \"\"\"\n",
    "    Apply a output layer to x_tensor using weight and bias\n",
    "    : x_tensor: A 2-D tensor where the first dimension is batch size.\n",
    "    : num_outputs: The number of output that the new tensor should be.\n",
    "    : return: A 2-D tensor where the second dimension is num_outputs.\n",
    "    \"\"\"\n",
    "    # TODO: Implement Function\n",
    "    # Create new weights and biases.\n",
    "    w_shape_x = x_tensor.get_shape().as_list()[-1] #number of input features\n",
    "    \n",
    "    weights = tf.Variable(tf.truncated_normal([w_shape_x, num_outputs], stddev=0.08))\n",
    "    biases = tf.Variable(tf.random_normal([num_outputs]))\n",
    "\n",
    "    # Calculate the layer as the matrix multiplication of\n",
    "    # the input and weights, and then add the bias-values.\n",
    "    layer = tf.matmul(x_tensor, weights) + biases\n",
    "    return layer\n",
    "\n",
    "\n",
    "\"\"\"\n",
    "DON'T MODIFY ANYTHING IN THIS CELL THAT IS BELOW THIS LINE\n",
    "\"\"\"\n",
    "tests.test_output(output)"
   ]
  },
  {
   "cell_type": "markdown",
   "metadata": {
    "deletable": true,
    "editable": true
   },
   "source": [
    "### Create Convolutional Model\n",
    "Implement the function `conv_net` to create a convolutional neural network model. The function takes in a batch of images, `x`, and outputs logits.  Use the layers you created above to create this model:\n",
    "\n",
    "* Apply 1, 2, or 3 Convolution and Max Pool layers\n",
    "* Apply a Flatten Layer\n",
    "* Apply 1, 2, or 3 Fully Connected Layers\n",
    "* Apply an Output Layer\n",
    "* Return the output\n",
    "* Apply [TensorFlow's Dropout](https://www.tensorflow.org/api_docs/python/tf/nn/dropout) to one or more layers in the model using `keep_prob`. "
   ]
  },
  {
   "cell_type": "code",
   "execution_count": 12,
   "metadata": {
    "collapsed": false,
    "deletable": true,
    "editable": true
   },
   "outputs": [
    {
     "name": "stdout",
     "output_type": "stream",
     "text": [
      "Neural Network Built!\n"
     ]
    }
   ],
   "source": [
    "def conv_net(x, keep_prob):\n",
    "    \"\"\"\n",
    "    Create a convolutional neural network model\n",
    "    : x: Placeholder tensor that holds image data.\n",
    "    : keep_prob: Placeholder tensor that hold dropout keep probability.\n",
    "    : return: Tensor that represents logits\n",
    "    \"\"\"\n",
    "    # TODO: Apply 1, 2, or 3 Convolution and Max Pool layers\n",
    "    #    Play around with different number of outputs, kernel size and stride\n",
    "    # Function Definition from Above:\n",
    "    #    conv2d_maxpool(x_tensor, conv_num_outputs, conv_ksize, conv_strides, pool_ksize, pool_strides)\n",
    "    \n",
    "\n",
    "    x_tensor = x\n",
    "    conv_num_outputs1 = 64\n",
    "    conv_num_outputs2 = 32\n",
    "    conv_num_outputs3 = 16\n",
    "    \n",
    "    conv_ksize = (5, 5)\n",
    "    conv_strides = (1, 1)\n",
    "    pool_ksize = (2, 2)\n",
    "    pool_strides = (2, 2)\n",
    "    \n",
    "    conv1 = conv2d_maxpool(x_tensor, conv_num_outputs1, conv_ksize, conv_strides, pool_ksize, pool_strides)\n",
    "    conv1 = tf.nn.dropout(conv1, keep_prob)\n",
    "    \n",
    "    conv2 = conv2d_maxpool(conv1, conv_num_outputs2, conv_ksize, conv_strides, pool_ksize, pool_strides)\n",
    "    conv2 = tf.nn.dropout(conv2, keep_prob)\n",
    "    \n",
    "    conv3 = conv2d_maxpool(conv2, conv_num_outputs3, conv_ksize, conv_strides, pool_ksize, pool_strides)\n",
    "    conv3 = tf.nn.dropout(conv3, keep_prob)\n",
    "    \n",
    "    # TODO: Apply a Flatten Layer\n",
    "    # Function Definition from Above:\n",
    "    #   flatten(x_tensor)\n",
    "    \n",
    "    layer_flat = flatten(conv3)\n",
    "    \n",
    "    # TODO: Apply 1, 2, or 3 Fully Connected Layers\n",
    "    #    Play around with different number of outputs\n",
    "    # Function Definition from Above:\n",
    "    #   fully_conn(x_tensor, num_outputs)\n",
    "    \n",
    "    layer_fc1 = fully_conn(layer_flat, 64)\n",
    "    layer_fc2 = fully_conn(layer_fc1, 32)\n",
    "    \n",
    "    # TODO: Apply an Output Layer\n",
    "    #    Set this to the number of classes\n",
    "    # Function Definition from Above:\n",
    "    #   output(x_tensor, num_outputs)\n",
    "    \n",
    "    layer_out = output(layer_fc2, 10)\n",
    "    \n",
    "    # TODO: return output\n",
    "    return layer_out\n",
    "\n",
    "\n",
    "\n",
    "\"\"\"\n",
    "DON'T MODIFY ANYTHING IN THIS CELL THAT IS BELOW THIS LINE\n",
    "\"\"\"\n",
    "\n",
    "##############################\n",
    "## Build the Neural Network ##\n",
    "##############################\n",
    "\n",
    "# Remove previous weights, bias, inputs, etc..\n",
    "tf.reset_default_graph()\n",
    "\n",
    "# Inputs\n",
    "x = neural_net_image_input((32, 32, 3))\n",
    "y = neural_net_label_input(10)\n",
    "keep_prob = neural_net_keep_prob_input()\n",
    "\n",
    "# Model\n",
    "logits = conv_net(x, keep_prob)\n",
    "\n",
    "# Name logits Tensor, so that is can be loaded from disk after training\n",
    "logits = tf.identity(logits, name='logits')\n",
    "\n",
    "# Loss and Optimizer\n",
    "cost = tf.reduce_mean(tf.nn.softmax_cross_entropy_with_logits(logits=logits, labels=y))\n",
    "optimizer = tf.train.AdamOptimizer().minimize(cost)\n",
    "\n",
    "# Accuracy\n",
    "correct_pred = tf.equal(tf.argmax(logits, 1), tf.argmax(y, 1))\n",
    "accuracy = tf.reduce_mean(tf.cast(correct_pred, tf.float32), name='accuracy')\n",
    "\n",
    "tests.test_conv_net(conv_net)"
   ]
  },
  {
   "cell_type": "markdown",
   "metadata": {
    "deletable": true,
    "editable": true
   },
   "source": [
    "## Train the Neural Network\n",
    "### Single Optimization\n",
    "Implement the function `train_neural_network` to do a single optimization.  The optimization should use `optimizer` to optimize in `session` with a `feed_dict` of the following:\n",
    "* `x` for image input\n",
    "* `y` for labels\n",
    "* `keep_prob` for keep probability for dropout\n",
    "\n",
    "This function will be called for each batch, so `tf.global_variables_initializer()` has already been called.\n",
    "\n",
    "Note: Nothing needs to be returned. This function is only optimizing the neural network."
   ]
  },
  {
   "cell_type": "code",
   "execution_count": 13,
   "metadata": {
    "collapsed": false,
    "deletable": true,
    "editable": true
   },
   "outputs": [
    {
     "name": "stdout",
     "output_type": "stream",
     "text": [
      "Tests Passed\n"
     ]
    }
   ],
   "source": [
    "def train_neural_network(session, optimizer, keep_probability, feature_batch, label_batch):\n",
    "    \"\"\"\n",
    "    Optimize the session on a batch of images and labels\n",
    "    : session: Current TensorFlow session\n",
    "    : optimizer: TensorFlow optimizer function\n",
    "    : keep_probability: keep probability\n",
    "    : feature_batch: Batch of Numpy image data\n",
    "    : label_batch: Batch of Numpy label data\n",
    "    \"\"\"\n",
    "    # TODO: Implement Function\n",
    "    # Initializing the variables\n",
    "    #session.run(tf.global_variables_initializer())\n",
    "    # Put the batch into a dict with the proper names \n",
    "    feed_dict_train = {x: feature_batch,\n",
    "                       y: label_batch,\n",
    "                       keep_prob: keep_probability}\n",
    "    session.run(optimizer, feed_dict=feed_dict_train)\n",
    "\n",
    "\n",
    "\"\"\"\n",
    "DON'T MODIFY ANYTHING IN THIS CELL THAT IS BELOW THIS LINE\n",
    "\"\"\"\n",
    "tests.test_train_nn(train_neural_network)"
   ]
  },
  {
   "cell_type": "markdown",
   "metadata": {
    "deletable": true,
    "editable": true
   },
   "source": [
    "### Show Stats\n",
    "Implement the function `print_stats` to print loss and validation accuracy.  Use the global variables `valid_features` and `valid_labels` to calculate validation accuracy.  Use a keep probability of `1.0` to calculate the loss and validation accuracy."
   ]
  },
  {
   "cell_type": "code",
   "execution_count": 14,
   "metadata": {
    "collapsed": false,
    "deletable": true,
    "editable": true
   },
   "outputs": [],
   "source": [
    "def print_stats(session, feature_batch, label_batch, cost, accuracy):\n",
    "    \"\"\"\n",
    "    Print information about loss and validation accuracy\n",
    "    : session: Current TensorFlow session\n",
    "    : feature_batch: Batch of Numpy image data\n",
    "    : label_batch: Batch of Numpy label data\n",
    "    : cost: TensorFlow cost function\n",
    "    : accuracy: TensorFlow accuracy function\n",
    "    \"\"\"\n",
    "    # TODO: Implement Function\n",
    "    # Calculate batch loss and accuracy\n",
    "    loss = session.run(cost, feed_dict={\n",
    "                x: feature_batch,\n",
    "                y: label_batch,\n",
    "                keep_prob: 1.})\n",
    "    print (\"Loss: {}\".format(loss))\n",
    "    valid_acc = session.run(accuracy, feed_dict={\n",
    "                x: valid_features,\n",
    "                y: valid_labels,\n",
    "                keep_prob: 1.})\n",
    "    print (\"Validation Accuracy: {}\".format(valid_acc))"
   ]
  },
  {
   "cell_type": "markdown",
   "metadata": {
    "deletable": true,
    "editable": true
   },
   "source": [
    "### Hyperparameters\n",
    "Tune the following parameters:\n",
    "* Set `epochs` to the number of iterations until the network stops learning or start overfitting\n",
    "* Set `batch_size` to the highest number that your machine has memory for.  Most people set them to common sizes of memory:\n",
    " * 64\n",
    " * 128\n",
    " * 256\n",
    " * ...\n",
    "* Set `keep_probability` to the probability of keeping a node using dropout"
   ]
  },
  {
   "cell_type": "code",
   "execution_count": 15,
   "metadata": {
    "collapsed": true,
    "deletable": true,
    "editable": true
   },
   "outputs": [],
   "source": [
    "# TODO: Tune Parameters\n",
    "epochs = 30\n",
    "batch_size = 128\n",
    "keep_probability = 0.6"
   ]
  },
  {
   "cell_type": "markdown",
   "metadata": {
    "deletable": true,
    "editable": true
   },
   "source": [
    "### Train on a Single CIFAR-10 Batch\n",
    "Instead of training the neural network on all the CIFAR-10 batches of data, let's use a single batch. This should save time while you iterate on the model to get a better accuracy.  Once the final validation accuracy is 50% or greater, run the model on all the data in the next section."
   ]
  },
  {
   "cell_type": "code",
   "execution_count": 16,
   "metadata": {
    "collapsed": false,
    "deletable": true,
    "editable": true
   },
   "outputs": [
    {
     "name": "stdout",
     "output_type": "stream",
     "text": [
      "Checking the Training on a Single Batch...\n",
      "Epoch  1, CIFAR-10 Batch 1:  Loss: 2.2619848251342773\n",
      "Validation Accuracy: 0.14499999582767487\n",
      "Epoch  2, CIFAR-10 Batch 1:  Loss: 2.162277936935425\n",
      "Validation Accuracy: 0.1915999948978424\n",
      "Epoch  3, CIFAR-10 Batch 1:  Loss: 2.0406992435455322\n",
      "Validation Accuracy: 0.2701999843120575\n",
      "Epoch  4, CIFAR-10 Batch 1:  Loss: 1.9578938484191895\n",
      "Validation Accuracy: 0.3285999894142151\n",
      "Epoch  5, CIFAR-10 Batch 1:  Loss: 1.8805625438690186\n",
      "Validation Accuracy: 0.3681999742984772\n",
      "Epoch  6, CIFAR-10 Batch 1:  Loss: 1.8567825555801392\n",
      "Validation Accuracy: 0.38559994101524353\n",
      "Epoch  7, CIFAR-10 Batch 1:  Loss: 1.7377734184265137\n",
      "Validation Accuracy: 0.40379998087882996\n",
      "Epoch  8, CIFAR-10 Batch 1:  Loss: 1.677079677581787\n",
      "Validation Accuracy: 0.4121999740600586\n",
      "Epoch  9, CIFAR-10 Batch 1:  Loss: 1.6797760725021362\n",
      "Validation Accuracy: 0.4123999774456024\n",
      "Epoch 10, CIFAR-10 Batch 1:  Loss: 1.6178617477416992\n",
      "Validation Accuracy: 0.429999977350235\n",
      "Epoch 11, CIFAR-10 Batch 1:  Loss: 1.5664832592010498\n",
      "Validation Accuracy: 0.4413999915122986\n",
      "Epoch 12, CIFAR-10 Batch 1:  Loss: 1.5379992723464966\n",
      "Validation Accuracy: 0.4413999617099762\n",
      "Epoch 13, CIFAR-10 Batch 1:  Loss: 1.5430405139923096\n",
      "Validation Accuracy: 0.4519999325275421\n",
      "Epoch 14, CIFAR-10 Batch 1:  Loss: 1.4748098850250244\n",
      "Validation Accuracy: 0.4655999541282654\n",
      "Epoch 15, CIFAR-10 Batch 1:  Loss: 1.4696612358093262\n",
      "Validation Accuracy: 0.462799996137619\n",
      "Epoch 16, CIFAR-10 Batch 1:  Loss: 1.4296354055404663\n",
      "Validation Accuracy: 0.46859994530677795\n",
      "Epoch 17, CIFAR-10 Batch 1:  Loss: 1.409157395362854\n",
      "Validation Accuracy: 0.47919997572898865\n",
      "Epoch 18, CIFAR-10 Batch 1:  Loss: 1.3698757886886597\n",
      "Validation Accuracy: 0.47939997911453247\n",
      "Epoch 19, CIFAR-10 Batch 1:  Loss: 1.3570562601089478\n",
      "Validation Accuracy: 0.48239997029304504\n",
      "Epoch 20, CIFAR-10 Batch 1:  Loss: 1.3674039840698242\n",
      "Validation Accuracy: 0.48959994316101074\n",
      "Epoch 21, CIFAR-10 Batch 1:  Loss: 1.3147047758102417\n",
      "Validation Accuracy: 0.4915999472141266\n",
      "Epoch 22, CIFAR-10 Batch 1:  Loss: 1.3337944746017456\n",
      "Validation Accuracy: 0.49139997363090515\n",
      "Epoch 23, CIFAR-10 Batch 1:  Loss: 1.2971606254577637\n",
      "Validation Accuracy: 0.49219992756843567\n",
      "Epoch 24, CIFAR-10 Batch 1:  Loss: 1.2368499040603638\n",
      "Validation Accuracy: 0.4959999918937683\n",
      "Epoch 25, CIFAR-10 Batch 1:  Loss: 1.2965929508209229\n",
      "Validation Accuracy: 0.48739996552467346\n",
      "Epoch 26, CIFAR-10 Batch 1:  Loss: 1.2023969888687134\n",
      "Validation Accuracy: 0.4999999701976776\n",
      "Epoch 27, CIFAR-10 Batch 1:  Loss: 1.1749123334884644\n",
      "Validation Accuracy: 0.5081999897956848\n",
      "Epoch 28, CIFAR-10 Batch 1:  Loss: 1.164372205734253\n",
      "Validation Accuracy: 0.5033999681472778\n",
      "Epoch 29, CIFAR-10 Batch 1:  Loss: 1.1724231243133545\n",
      "Validation Accuracy: 0.509399950504303\n",
      "Epoch 30, CIFAR-10 Batch 1:  Loss: 1.2020776271820068\n",
      "Validation Accuracy: 0.5021999478340149\n"
     ]
    }
   ],
   "source": [
    "\"\"\"\n",
    "DON'T MODIFY ANYTHING IN THIS CELL\n",
    "\"\"\"\n",
    "print('Checking the Training on a Single Batch...')\n",
    "with tf.Session() as sess:\n",
    "    # Initializing the variables\n",
    "    sess.run(tf.global_variables_initializer())\n",
    "    \n",
    "    # Training cycle\n",
    "    for epoch in range(epochs):\n",
    "        batch_i = 1\n",
    "        for batch_features, batch_labels in helper.load_preprocess_training_batch(batch_i, batch_size):\n",
    "            train_neural_network(sess, optimizer, keep_probability, batch_features, batch_labels)\n",
    "        print('Epoch {:>2}, CIFAR-10 Batch {}:  '.format(epoch + 1, batch_i), end='')\n",
    "        print_stats(sess, batch_features, batch_labels, cost, accuracy)"
   ]
  },
  {
   "cell_type": "markdown",
   "metadata": {
    "deletable": true,
    "editable": true
   },
   "source": [
    "### Fully Train the Model\n",
    "Now that you got a good accuracy with a single CIFAR-10 batch, try it with all five batches."
   ]
  },
  {
   "cell_type": "code",
   "execution_count": 17,
   "metadata": {
    "collapsed": false,
    "deletable": true,
    "editable": true
   },
   "outputs": [
    {
     "name": "stdout",
     "output_type": "stream",
     "text": [
      "Training...\n",
      "Epoch  1, CIFAR-10 Batch 1:  Loss: 2.3722195625305176\n",
      "Validation Accuracy: 0.14919999241828918\n",
      "Epoch  1, CIFAR-10 Batch 2:  Loss: 2.0547733306884766\n",
      "Validation Accuracy: 0.22679999470710754\n",
      "Epoch  1, CIFAR-10 Batch 3:  Loss: 1.8940675258636475\n",
      "Validation Accuracy: 0.21759997308254242\n",
      "Epoch  1, CIFAR-10 Batch 4:  Loss: 1.8820853233337402\n",
      "Validation Accuracy: 0.29600000381469727\n",
      "Epoch  1, CIFAR-10 Batch 5:  Loss: 1.9127057790756226\n",
      "Validation Accuracy: 0.31039997935295105\n",
      "Epoch  2, CIFAR-10 Batch 1:  Loss: 2.0189783573150635\n",
      "Validation Accuracy: 0.3434000015258789\n",
      "Epoch  2, CIFAR-10 Batch 2:  Loss: 1.7609444856643677\n",
      "Validation Accuracy: 0.3771999776363373\n",
      "Epoch  2, CIFAR-10 Batch 3:  Loss: 1.4549763202667236\n",
      "Validation Accuracy: 0.4015999734401703\n",
      "Epoch  2, CIFAR-10 Batch 4:  Loss: 1.6375274658203125\n",
      "Validation Accuracy: 0.4241999685764313\n",
      "Epoch  2, CIFAR-10 Batch 5:  Loss: 1.71645188331604\n",
      "Validation Accuracy: 0.4159999489784241\n",
      "Epoch  3, CIFAR-10 Batch 1:  Loss: 1.7600188255310059\n",
      "Validation Accuracy: 0.438400000333786\n",
      "Epoch  3, CIFAR-10 Batch 2:  Loss: 1.6259111166000366\n",
      "Validation Accuracy: 0.43699994683265686\n",
      "Epoch  3, CIFAR-10 Batch 3:  Loss: 1.3536206483840942\n",
      "Validation Accuracy: 0.44419997930526733\n",
      "Epoch  3, CIFAR-10 Batch 4:  Loss: 1.4842064380645752\n",
      "Validation Accuracy: 0.45979994535446167\n",
      "Epoch  3, CIFAR-10 Batch 5:  Loss: 1.643406629562378\n",
      "Validation Accuracy: 0.4391999840736389\n",
      "Epoch  4, CIFAR-10 Batch 1:  Loss: 1.615757942199707\n",
      "Validation Accuracy: 0.47339996695518494\n",
      "Epoch  4, CIFAR-10 Batch 2:  Loss: 1.475820541381836\n",
      "Validation Accuracy: 0.46699994802474976\n",
      "Epoch  4, CIFAR-10 Batch 3:  Loss: 1.2478747367858887\n",
      "Validation Accuracy: 0.47099995613098145\n",
      "Epoch  4, CIFAR-10 Batch 4:  Loss: 1.353930950164795\n",
      "Validation Accuracy: 0.49459996819496155\n",
      "Epoch  4, CIFAR-10 Batch 5:  Loss: 1.5448824167251587\n",
      "Validation Accuracy: 0.4893999993801117\n",
      "Epoch  5, CIFAR-10 Batch 1:  Loss: 1.511073350906372\n",
      "Validation Accuracy: 0.5009999871253967\n",
      "Epoch  5, CIFAR-10 Batch 2:  Loss: 1.3713523149490356\n",
      "Validation Accuracy: 0.48559993505477905\n",
      "Epoch  5, CIFAR-10 Batch 3:  Loss: 1.1565444469451904\n",
      "Validation Accuracy: 0.48819994926452637\n",
      "Epoch  5, CIFAR-10 Batch 4:  Loss: 1.3392865657806396\n",
      "Validation Accuracy: 0.5067999362945557\n",
      "Epoch  5, CIFAR-10 Batch 5:  Loss: 1.454329490661621\n",
      "Validation Accuracy: 0.48959991335868835\n",
      "Epoch  6, CIFAR-10 Batch 1:  Loss: 1.4692466259002686\n",
      "Validation Accuracy: 0.52239990234375\n",
      "Epoch  6, CIFAR-10 Batch 2:  Loss: 1.3011746406555176\n",
      "Validation Accuracy: 0.5171999931335449\n",
      "Epoch  6, CIFAR-10 Batch 3:  Loss: 1.1255223751068115\n",
      "Validation Accuracy: 0.5117999315261841\n",
      "Epoch  6, CIFAR-10 Batch 4:  Loss: 1.2358825206756592\n",
      "Validation Accuracy: 0.5306000113487244\n",
      "Epoch  6, CIFAR-10 Batch 5:  Loss: 1.4542779922485352\n",
      "Validation Accuracy: 0.5089999437332153\n",
      "Epoch  7, CIFAR-10 Batch 1:  Loss: 1.4407777786254883\n",
      "Validation Accuracy: 0.5341999530792236\n",
      "Epoch  7, CIFAR-10 Batch 2:  Loss: 1.2115156650543213\n",
      "Validation Accuracy: 0.5281999111175537\n",
      "Epoch  7, CIFAR-10 Batch 3:  Loss: 1.0509402751922607\n",
      "Validation Accuracy: 0.5361999273300171\n",
      "Epoch  7, CIFAR-10 Batch 4:  Loss: 1.1862975358963013\n",
      "Validation Accuracy: 0.5469999313354492\n",
      "Epoch  7, CIFAR-10 Batch 5:  Loss: 1.454695701599121\n",
      "Validation Accuracy: 0.5135999321937561\n",
      "Epoch  8, CIFAR-10 Batch 1:  Loss: 1.3381644487380981\n",
      "Validation Accuracy: 0.5579999685287476\n",
      "Epoch  8, CIFAR-10 Batch 2:  Loss: 1.2164816856384277\n",
      "Validation Accuracy: 0.5496000051498413\n",
      "Epoch  8, CIFAR-10 Batch 3:  Loss: 1.049978256225586\n",
      "Validation Accuracy: 0.550399899482727\n",
      "Epoch  8, CIFAR-10 Batch 4:  Loss: 1.136404275894165\n",
      "Validation Accuracy: 0.5633999109268188\n",
      "Epoch  8, CIFAR-10 Batch 5:  Loss: 1.2916224002838135\n",
      "Validation Accuracy: 0.5549999475479126\n",
      "Epoch  9, CIFAR-10 Batch 1:  Loss: 1.295485258102417\n",
      "Validation Accuracy: 0.5669999122619629\n",
      "Epoch  9, CIFAR-10 Batch 2:  Loss: 1.2234134674072266\n",
      "Validation Accuracy: 0.5597999095916748\n",
      "Epoch  9, CIFAR-10 Batch 3:  Loss: 1.0143628120422363\n",
      "Validation Accuracy: 0.5597999095916748\n",
      "Epoch  9, CIFAR-10 Batch 4:  Loss: 1.118395447731018\n",
      "Validation Accuracy: 0.5645999312400818\n",
      "Epoch  9, CIFAR-10 Batch 5:  Loss: 1.226255178451538\n",
      "Validation Accuracy: 0.5565999746322632\n",
      "Epoch 10, CIFAR-10 Batch 1:  Loss: 1.2803781032562256\n",
      "Validation Accuracy: 0.5777999758720398\n",
      "Epoch 10, CIFAR-10 Batch 2:  Loss: 1.2531434297561646\n",
      "Validation Accuracy: 0.5749998688697815\n",
      "Epoch 10, CIFAR-10 Batch 3:  Loss: 1.0444408655166626\n",
      "Validation Accuracy: 0.5725999474525452\n",
      "Epoch 10, CIFAR-10 Batch 4:  Loss: 1.0790565013885498\n",
      "Validation Accuracy: 0.5837998986244202\n",
      "Epoch 10, CIFAR-10 Batch 5:  Loss: 1.1886074542999268\n",
      "Validation Accuracy: 0.5701999664306641\n",
      "Epoch 11, CIFAR-10 Batch 1:  Loss: 1.2835047245025635\n",
      "Validation Accuracy: 0.5777998566627502\n",
      "Epoch 11, CIFAR-10 Batch 2:  Loss: 1.177335262298584\n",
      "Validation Accuracy: 0.5911999344825745\n",
      "Epoch 11, CIFAR-10 Batch 3:  Loss: 0.9607675075531006\n",
      "Validation Accuracy: 0.5821999311447144\n",
      "Epoch 11, CIFAR-10 Batch 4:  Loss: 1.0361393690109253\n",
      "Validation Accuracy: 0.5843998789787292\n",
      "Epoch 11, CIFAR-10 Batch 5:  Loss: 1.1120939254760742\n",
      "Validation Accuracy: 0.5787999629974365\n",
      "Epoch 12, CIFAR-10 Batch 1:  Loss: 1.2004740238189697\n",
      "Validation Accuracy: 0.590399980545044\n",
      "Epoch 12, CIFAR-10 Batch 2:  Loss: 1.1732652187347412\n",
      "Validation Accuracy: 0.596799910068512\n",
      "Epoch 12, CIFAR-10 Batch 3:  Loss: 0.9665970802307129\n",
      "Validation Accuracy: 0.5789998769760132\n",
      "Epoch 12, CIFAR-10 Batch 4:  Loss: 1.006993055343628\n",
      "Validation Accuracy: 0.5947998762130737\n",
      "Epoch 12, CIFAR-10 Batch 5:  Loss: 1.0552695989608765\n",
      "Validation Accuracy: 0.5915998816490173\n",
      "Epoch 13, CIFAR-10 Batch 1:  Loss: 1.1224857568740845\n",
      "Validation Accuracy: 0.5995998978614807\n",
      "Epoch 13, CIFAR-10 Batch 2:  Loss: 1.1274969577789307\n",
      "Validation Accuracy: 0.6095999479293823\n",
      "Epoch 13, CIFAR-10 Batch 3:  Loss: 0.9138123393058777\n",
      "Validation Accuracy: 0.6039999723434448\n",
      "Epoch 13, CIFAR-10 Batch 4:  Loss: 0.9833281636238098\n",
      "Validation Accuracy: 0.6095998883247375\n",
      "Epoch 13, CIFAR-10 Batch 5:  Loss: 1.0574125051498413\n",
      "Validation Accuracy: 0.5833998918533325\n",
      "Epoch 14, CIFAR-10 Batch 1:  Loss: 1.0732555389404297\n",
      "Validation Accuracy: 0.6121999025344849\n",
      "Epoch 14, CIFAR-10 Batch 2:  Loss: 1.1248033046722412\n",
      "Validation Accuracy: 0.6131999492645264\n",
      "Epoch 14, CIFAR-10 Batch 3:  Loss: 0.9136981964111328\n",
      "Validation Accuracy: 0.6063998937606812\n",
      "Epoch 14, CIFAR-10 Batch 4:  Loss: 0.9288247227668762\n",
      "Validation Accuracy: 0.6049998998641968\n",
      "Epoch 14, CIFAR-10 Batch 5:  Loss: 1.0553456544876099\n",
      "Validation Accuracy: 0.5979999303817749\n",
      "Epoch 15, CIFAR-10 Batch 1:  Loss: 1.1226049661636353\n",
      "Validation Accuracy: 0.6157999038696289\n",
      "Epoch 15, CIFAR-10 Batch 2:  Loss: 1.0923082828521729\n",
      "Validation Accuracy: 0.6137998700141907\n",
      "Epoch 15, CIFAR-10 Batch 3:  Loss: 0.8703372478485107\n",
      "Validation Accuracy: 0.6065999269485474\n",
      "Epoch 15, CIFAR-10 Batch 4:  Loss: 0.9105130434036255\n",
      "Validation Accuracy: 0.6059998869895935\n",
      "Epoch 15, CIFAR-10 Batch 5:  Loss: 1.036543607711792\n",
      "Validation Accuracy: 0.5973999500274658\n",
      "Epoch 16, CIFAR-10 Batch 1:  Loss: 1.0285474061965942\n",
      "Validation Accuracy: 0.6255998611450195\n",
      "Epoch 16, CIFAR-10 Batch 2:  Loss: 1.0198618173599243\n",
      "Validation Accuracy: 0.6207998991012573\n",
      "Epoch 16, CIFAR-10 Batch 3:  Loss: 0.8528200387954712\n",
      "Validation Accuracy: 0.6185998916625977\n",
      "Epoch 16, CIFAR-10 Batch 4:  Loss: 0.8970946669578552\n",
      "Validation Accuracy: 0.6089999079704285\n",
      "Epoch 16, CIFAR-10 Batch 5:  Loss: 0.9824181795120239\n",
      "Validation Accuracy: 0.6093999147415161\n",
      "Epoch 17, CIFAR-10 Batch 1:  Loss: 1.0109502077102661\n",
      "Validation Accuracy: 0.627799928188324\n",
      "Epoch 17, CIFAR-10 Batch 2:  Loss: 1.0411165952682495\n",
      "Validation Accuracy: 0.6271998882293701\n",
      "Epoch 17, CIFAR-10 Batch 3:  Loss: 0.8904240727424622\n",
      "Validation Accuracy: 0.6119998693466187\n",
      "Epoch 17, CIFAR-10 Batch 4:  Loss: 0.8565921783447266\n",
      "Validation Accuracy: 0.6183999180793762\n",
      "Epoch 17, CIFAR-10 Batch 5:  Loss: 0.914484977722168\n",
      "Validation Accuracy: 0.6227999329566956\n",
      "Epoch 18, CIFAR-10 Batch 1:  Loss: 1.034885287284851\n",
      "Validation Accuracy: 0.638999879360199\n",
      "Epoch 18, CIFAR-10 Batch 2:  Loss: 1.0239944458007812\n",
      "Validation Accuracy: 0.6345998048782349\n",
      "Epoch 18, CIFAR-10 Batch 3:  Loss: 0.7857581377029419\n",
      "Validation Accuracy: 0.6315999031066895\n",
      "Epoch 18, CIFAR-10 Batch 4:  Loss: 0.7777645587921143\n",
      "Validation Accuracy: 0.6283999085426331\n",
      "Epoch 18, CIFAR-10 Batch 5:  Loss: 0.9061070084571838\n",
      "Validation Accuracy: 0.6275998950004578\n",
      "Epoch 19, CIFAR-10 Batch 1:  Loss: 0.9621320962905884\n",
      "Validation Accuracy: 0.6363998651504517\n",
      "Epoch 19, CIFAR-10 Batch 2:  Loss: 0.9721966981887817\n",
      "Validation Accuracy: 0.6313998699188232\n",
      "Epoch 19, CIFAR-10 Batch 3:  Loss: 0.7895578145980835\n",
      "Validation Accuracy: 0.631399929523468\n",
      "Epoch 19, CIFAR-10 Batch 4:  Loss: 0.7664315104484558\n",
      "Validation Accuracy: 0.6445998549461365\n",
      "Epoch 19, CIFAR-10 Batch 5:  Loss: 0.9343475103378296\n",
      "Validation Accuracy: 0.619399905204773\n",
      "Epoch 20, CIFAR-10 Batch 1:  Loss: 1.0321013927459717\n",
      "Validation Accuracy: 0.6363999247550964\n",
      "Epoch 20, CIFAR-10 Batch 2:  Loss: 0.9648322463035583\n",
      "Validation Accuracy: 0.6471998691558838\n",
      "Epoch 20, CIFAR-10 Batch 3:  Loss: 0.7748507857322693\n",
      "Validation Accuracy: 0.6355999112129211\n",
      "Epoch 20, CIFAR-10 Batch 4:  Loss: 0.8116891980171204\n",
      "Validation Accuracy: 0.6357998847961426\n",
      "Epoch 20, CIFAR-10 Batch 5:  Loss: 0.9027497172355652\n",
      "Validation Accuracy: 0.632599949836731\n",
      "Epoch 21, CIFAR-10 Batch 1:  Loss: 1.001456618309021\n",
      "Validation Accuracy: 0.640999972820282\n",
      "Epoch 21, CIFAR-10 Batch 2:  Loss: 0.9820865988731384\n",
      "Validation Accuracy: 0.6423998475074768\n",
      "Epoch 21, CIFAR-10 Batch 3:  Loss: 0.7331360578536987\n",
      "Validation Accuracy: 0.6427999138832092\n",
      "Epoch 21, CIFAR-10 Batch 4:  Loss: 0.7961333990097046\n",
      "Validation Accuracy: 0.6299998760223389\n",
      "Epoch 21, CIFAR-10 Batch 5:  Loss: 0.9208327531814575\n",
      "Validation Accuracy: 0.6307998895645142\n",
      "Epoch 22, CIFAR-10 Batch 1:  Loss: 1.0090633630752563\n",
      "Validation Accuracy: 0.6381998658180237\n",
      "Epoch 22, CIFAR-10 Batch 2:  Loss: 0.9777957201004028\n",
      "Validation Accuracy: 0.642599880695343\n",
      "Epoch 22, CIFAR-10 Batch 3:  Loss: 0.7416423559188843\n",
      "Validation Accuracy: 0.6493998765945435\n",
      "Epoch 22, CIFAR-10 Batch 4:  Loss: 0.7288371324539185\n",
      "Validation Accuracy: 0.6459998488426208\n",
      "Epoch 22, CIFAR-10 Batch 5:  Loss: 0.8619129657745361\n",
      "Validation Accuracy: 0.6391999125480652\n",
      "Epoch 23, CIFAR-10 Batch 1:  Loss: 0.9284428358078003\n",
      "Validation Accuracy: 0.6477999091148376\n",
      "Epoch 23, CIFAR-10 Batch 2:  Loss: 0.9895365238189697\n",
      "Validation Accuracy: 0.6457998752593994\n",
      "Epoch 23, CIFAR-10 Batch 3:  Loss: 0.7317533493041992\n",
      "Validation Accuracy: 0.6457998752593994\n",
      "Epoch 23, CIFAR-10 Batch 4:  Loss: 0.782070517539978\n",
      "Validation Accuracy: 0.6399998664855957\n",
      "Epoch 23, CIFAR-10 Batch 5:  Loss: 0.8276948928833008\n",
      "Validation Accuracy: 0.6375998854637146\n",
      "Epoch 24, CIFAR-10 Batch 1:  Loss: 0.9211603999137878\n",
      "Validation Accuracy: 0.6535998582839966\n",
      "Epoch 24, CIFAR-10 Batch 2:  Loss: 0.9270085096359253\n",
      "Validation Accuracy: 0.6529998779296875\n",
      "Epoch 24, CIFAR-10 Batch 3:  Loss: 0.7157920598983765\n",
      "Validation Accuracy: 0.656999945640564\n",
      "Epoch 24, CIFAR-10 Batch 4:  Loss: 0.7256959676742554\n",
      "Validation Accuracy: 0.6583998799324036\n",
      "Epoch 24, CIFAR-10 Batch 5:  Loss: 0.8018906712532043\n",
      "Validation Accuracy: 0.6457998752593994\n",
      "Epoch 25, CIFAR-10 Batch 1:  Loss: 0.8710768222808838\n",
      "Validation Accuracy: 0.6571999192237854\n",
      "Epoch 25, CIFAR-10 Batch 2:  Loss: 0.962916374206543\n",
      "Validation Accuracy: 0.6639998555183411\n",
      "Epoch 25, CIFAR-10 Batch 3:  Loss: 0.6933294534683228\n",
      "Validation Accuracy: 0.6507999300956726\n",
      "Epoch 25, CIFAR-10 Batch 4:  Loss: 0.7771545648574829\n",
      "Validation Accuracy: 0.6485998630523682\n",
      "Epoch 25, CIFAR-10 Batch 5:  Loss: 0.8001183867454529\n",
      "Validation Accuracy: 0.6505998969078064\n",
      "Epoch 26, CIFAR-10 Batch 1:  Loss: 0.8777888417243958\n",
      "Validation Accuracy: 0.6483998894691467\n",
      "Epoch 26, CIFAR-10 Batch 2:  Loss: 0.8828566670417786\n",
      "Validation Accuracy: 0.6493998765945435\n",
      "Epoch 26, CIFAR-10 Batch 3:  Loss: 0.7459084987640381\n",
      "Validation Accuracy: 0.6435999274253845\n",
      "Epoch 26, CIFAR-10 Batch 4:  Loss: 0.8133032321929932\n",
      "Validation Accuracy: 0.6309999227523804\n",
      "Epoch 26, CIFAR-10 Batch 5:  Loss: 0.7772338390350342\n",
      "Validation Accuracy: 0.6479998826980591\n",
      "Epoch 27, CIFAR-10 Batch 1:  Loss: 0.8656638860702515\n",
      "Validation Accuracy: 0.6637998819351196\n",
      "Epoch 27, CIFAR-10 Batch 2:  Loss: 0.8858287930488586\n",
      "Validation Accuracy: 0.6705999374389648\n",
      "Epoch 27, CIFAR-10 Batch 3:  Loss: 0.6542578935623169\n",
      "Validation Accuracy: 0.6701998710632324\n",
      "Epoch 27, CIFAR-10 Batch 4:  Loss: 0.7327881455421448\n",
      "Validation Accuracy: 0.6587998867034912\n",
      "Epoch 27, CIFAR-10 Batch 5:  Loss: 0.839975118637085\n",
      "Validation Accuracy: 0.644399881362915\n",
      "Epoch 28, CIFAR-10 Batch 1:  Loss: 0.9187415838241577\n",
      "Validation Accuracy: 0.6607998609542847\n",
      "Epoch 28, CIFAR-10 Batch 2:  Loss: 0.841561496257782\n",
      "Validation Accuracy: 0.658599853515625\n",
      "Epoch 28, CIFAR-10 Batch 3:  Loss: 0.6532033085823059\n",
      "Validation Accuracy: 0.6641998291015625\n",
      "Epoch 28, CIFAR-10 Batch 4:  Loss: 0.7170737981796265\n",
      "Validation Accuracy: 0.6647998690605164\n",
      "Epoch 28, CIFAR-10 Batch 5:  Loss: 0.8023029565811157\n",
      "Validation Accuracy: 0.6589998602867126\n",
      "Epoch 29, CIFAR-10 Batch 1:  Loss: 0.8548028469085693\n",
      "Validation Accuracy: 0.675399899482727\n",
      "Epoch 29, CIFAR-10 Batch 2:  Loss: 0.8268518447875977\n",
      "Validation Accuracy: 0.6715998649597168\n",
      "Epoch 29, CIFAR-10 Batch 3:  Loss: 0.6635633707046509\n",
      "Validation Accuracy: 0.6575998067855835\n",
      "Epoch 29, CIFAR-10 Batch 4:  Loss: 0.6794742345809937\n",
      "Validation Accuracy: 0.6547998785972595\n",
      "Epoch 29, CIFAR-10 Batch 5:  Loss: 0.7534937858581543\n",
      "Validation Accuracy: 0.6589998602867126\n",
      "Epoch 30, CIFAR-10 Batch 1:  Loss: 0.8651811480522156\n",
      "Validation Accuracy: 0.6749998927116394\n",
      "Epoch 30, CIFAR-10 Batch 2:  Loss: 0.8138847351074219\n",
      "Validation Accuracy: 0.6655998826026917\n",
      "Epoch 30, CIFAR-10 Batch 3:  Loss: 0.6871969103813171\n",
      "Validation Accuracy: 0.6775998473167419\n",
      "Epoch 30, CIFAR-10 Batch 4:  Loss: 0.6765555739402771\n",
      "Validation Accuracy: 0.6609998941421509\n",
      "Epoch 30, CIFAR-10 Batch 5:  Loss: 0.748165488243103\n",
      "Validation Accuracy: 0.6701998710632324\n"
     ]
    }
   ],
   "source": [
    "\"\"\"\n",
    "DON'T MODIFY ANYTHING IN THIS CELL\n",
    "\"\"\"\n",
    "save_model_path = './image_classification'\n",
    "\n",
    "print('Training...')\n",
    "with tf.Session() as sess:\n",
    "    # Initializing the variables\n",
    "    sess.run(tf.global_variables_initializer())\n",
    "    \n",
    "    # Training cycle\n",
    "    for epoch in range(epochs):\n",
    "        # Loop over all batches\n",
    "        n_batches = 5\n",
    "        for batch_i in range(1, n_batches + 1):\n",
    "            for batch_features, batch_labels in helper.load_preprocess_training_batch(batch_i, batch_size):\n",
    "                train_neural_network(sess, optimizer, keep_probability, batch_features, batch_labels)\n",
    "            print('Epoch {:>2}, CIFAR-10 Batch {}:  '.format(epoch + 1, batch_i), end='')\n",
    "            print_stats(sess, batch_features, batch_labels, cost, accuracy)\n",
    "            \n",
    "    # Save Model\n",
    "    saver = tf.train.Saver()\n",
    "    save_path = saver.save(sess, save_model_path)"
   ]
  },
  {
   "cell_type": "markdown",
   "metadata": {
    "deletable": true,
    "editable": true
   },
   "source": [
    "# Checkpoint\n",
    "The model has been saved to disk.\n",
    "## Test Model\n",
    "Test your model against the test dataset.  This will be your final accuracy. You should have an accuracy greater than 50%. If you don't, keep tweaking the model architecture and parameters."
   ]
  },
  {
   "cell_type": "code",
   "execution_count": 18,
   "metadata": {
    "collapsed": false,
    "deletable": true,
    "editable": true
   },
   "outputs": [
    {
     "name": "stdout",
     "output_type": "stream",
     "text": [
      "Testing Accuracy: 0.6611946202531646\n",
      "\n"
     ]
    },
    {
     "data": {
      "image/png": "[encoded data removed]",
      "text/plain": [
       "<matplotlib.figure.Figure at 0x7f3e0d291f60>"
      ]
     },
     "metadata": {
      "image/png": {
       "height": 319,
       "width": 355
      }
     },
     "output_type": "display_data"
    }
   ],
   "source": [
    "\"\"\"\n",
    "DON'T MODIFY ANYTHING IN THIS CELL\n",
    "\"\"\"\n",
    "%matplotlib inline\n",
    "%config InlineBackend.figure_format = 'retina'\n",
    "\n",
    "import tensorflow as tf\n",
    "import pickle\n",
    "import helper\n",
    "import random\n",
    "\n",
    "# Set batch size if not already set\n",
    "try:\n",
    "    if batch_size:\n",
    "        pass\n",
    "except NameError:\n",
    "    batch_size = 64\n",
    "\n",
    "save_model_path = './image_classification'\n",
    "n_samples = 4\n",
    "top_n_predictions = 3\n",
    "\n",
    "def test_model():\n",
    "    \"\"\"\n",
    "    Test the saved model against the test dataset\n",
    "    \"\"\"\n",
    "\n",
    "    test_features, test_labels = pickle.load(open('preprocess_training.p', mode='rb'))\n",
    "    loaded_graph = tf.Graph()\n",
    "\n",
    "    with tf.Session(graph=loaded_graph) as sess:\n",
    "        # Load model\n",
    "        loader = tf.train.import_meta_graph(save_model_path + '.meta')\n",
    "        loader.restore(sess, save_model_path)\n",
    "\n",
    "        # Get Tensors from loaded model\n",
    "        loaded_x = loaded_graph.get_tensor_by_name('x:0')\n",
    "        loaded_y = loaded_graph.get_tensor_by_name('y:0')\n",
    "        loaded_keep_prob = loaded_graph.get_tensor_by_name('keep_prob:0')\n",
    "        loaded_logits = loaded_graph.get_tensor_by_name('logits:0')\n",
    "        loaded_acc = loaded_graph.get_tensor_by_name('accuracy:0')\n",
    "        \n",
    "        # Get accuracy in batches for memory limitations\n",
    "        test_batch_acc_total = 0\n",
    "        test_batch_count = 0\n",
    "        \n",
    "        for train_feature_batch, train_label_batch in helper.batch_features_labels(test_features, test_labels, batch_size):\n",
    "            test_batch_acc_total += sess.run(\n",
    "                loaded_acc,\n",
    "                feed_dict={loaded_x: train_feature_batch, loaded_y: train_label_batch, loaded_keep_prob: 1.0})\n",
    "            test_batch_count += 1\n",
    "\n",
    "        print('Testing Accuracy: {}\\n'.format(test_batch_acc_total/test_batch_count))\n",
    "\n",
    "        # Print Random Samples\n",
    "        random_test_features, random_test_labels = tuple(zip(*random.sample(list(zip(test_features, test_labels)), n_samples)))\n",
    "        random_test_predictions = sess.run(\n",
    "            tf.nn.top_k(tf.nn.softmax(loaded_logits), top_n_predictions),\n",
    "            feed_dict={loaded_x: random_test_features, loaded_y: random_test_labels, loaded_keep_prob: 1.0})\n",
    "        helper.display_image_predictions(random_test_features, random_test_labels, random_test_predictions)\n",
    "\n",
    "\n",
    "test_model()"
   ]
  },
  {
   "cell_type": "markdown",
   "metadata": {
    "deletable": true,
    "editable": true
   },
   "source": [
    "## Why 50-70% Accuracy?\n",
    "You might be wondering why you can't get an accuracy any higher. First things first, 50% isn't bad for a simple CNN.  Pure guessing would get you 10% accuracy. However, you might notice people are getting scores [well above 70%](http://rodrigob.github.io/are_we_there_yet/build/classification_datasets_results.html#43494641522d3130).  That's because we haven't taught you all there is to know about neural networks. We still need to cover a few more techniques.\n",
    "## Submitting This Project\n",
    "When submitting this project, make sure to run all the cells before saving the notebook.  Save the notebook file as \"dlnd_image_classification.ipynb\" and save it as a HTML file under \"File\" -> \"Download as\".  Include the \"helper.py\" and \"problem_unittests.py\" files in your submission."
   ]
  }
 ],
 "metadata": {
  "kernelspec": {
   "display_name": "Python 3",
   "language": "python",
   "name": "python3"
  },
  "language_info": {
   "codemirror_mode": {
    "name": "ipython",
    "version": 3
   },
   "file_extension": ".py",
   "mimetype": "text/x-python",
   "name": "python",
   "nbconvert_exporter": "python",
   "pygments_lexer": "ipython3",
   "version": "3.6.0"
  }
 },
 "nbformat": 4,
 "nbformat_minor": 0
}
