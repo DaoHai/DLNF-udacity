{
 "cells": [
  {
   "cell_type": "markdown",
   "metadata": {
    "deletable": true,
    "editable": true
   },
   "source": [
    "# TV Script Generation\n",
    "In this project, you'll generate your own [Simpsons](https://en.wikipedia.org/wiki/The_Simpsons) TV scripts using RNNs.  You'll be using part of the [Simpsons dataset](https://www.kaggle.com/wcukierski/the-simpsons-by-the-data) of scripts from 27 seasons.  The Neural Network you'll build will generate a new TV script for a scene at [Moe's Tavern](https://simpsonswiki.com/wiki/Moe's_Tavern).\n",
    "## Get the Data\n",
    "The data is already provided for you.  You'll be using a subset of the original dataset.  It consists of only the scenes in Moe's Tavern.  This doesn't include other versions of the tavern, like \"Moe's Cavern\", \"Flaming Moe's\", \"Uncle Moe's Family Feed-Bag\", etc.."
   ]
  },
  {
   "cell_type": "code",
   "execution_count": 1,
   "metadata": {
    "collapsed": false,
    "deletable": true,
    "editable": true
   },
   "outputs": [],
   "source": [
    "\"\"\"\n",
    "DON'T MODIFY ANYTHING IN THIS CELL\n",
    "\"\"\"\n",
    "import helper\n",
    "\n",
    "data_dir = './data/simpsons/moes_tavern_lines.txt'\n",
    "text = helper.load_data(data_dir)\n",
    "# Ignore notice, since we don't use it for analysing the data\n",
    "text = text[81:]"
   ]
  },
  {
   "cell_type": "markdown",
   "metadata": {
    "deletable": true,
    "editable": true
   },
   "source": [
    "## Explore the Data\n",
    "Play around with `view_sentence_range` to view different parts of the data."
   ]
  },
  {
   "cell_type": "code",
   "execution_count": 2,
   "metadata": {
    "collapsed": false,
    "deletable": true,
    "editable": true
   },
   "outputs": [
    {
     "name": "stdout",
     "output_type": "stream",
     "text": [
      "Dataset Stats\n",
      "Roughly the number of unique words: 11492\n",
      "Number of scenes: 262\n",
      "Average number of sentences in each scene: 15.248091603053435\n",
      "Number of lines: 4257\n",
      "Average number of words in each line: 11.50434578341555\n",
      "\n",
      "The sentences 0 to 10:\n",
      "Moe_Szyslak: (INTO PHONE) Moe's Tavern. Where the elite meet to drink.\n",
      "Bart_Simpson: Eh, yeah, hello, is Mike there? Last name, Rotch.\n",
      "Moe_Szyslak: (INTO PHONE) Hold on, I'll check. (TO BARFLIES) Mike Rotch. Mike Rotch. Hey, has anybody seen Mike Rotch, lately?\n",
      "Moe_Szyslak: (INTO PHONE) Listen you little puke. One of these days I'm gonna catch you, and I'm gonna carve my name on your back with an ice pick.\n",
      "Moe_Szyslak: What's the matter Homer? You're not your normal effervescent self.\n",
      "Homer_Simpson: I got my problems, Moe. Give me another one.\n",
      "Moe_Szyslak: Homer, hey, you should not drink to forget your problems.\n",
      "Barney_Gumble: Yeah, you should only drink to enhance your social skills.\n",
      "\n",
      "\n"
     ]
    }
   ],
   "source": [
    "view_sentence_range = (0, 10)\n",
    "\n",
    "\"\"\"\n",
    "DON'T MODIFY ANYTHING IN THIS CELL\n",
    "\"\"\"\n",
    "import numpy as np\n",
    "\n",
    "print('Dataset Stats')\n",
    "print('Roughly the number of unique words: {}'.format(len({word: None for word in text.split()})))\n",
    "scenes = text.split('\\n\\n')\n",
    "print('Number of scenes: {}'.format(len(scenes)))\n",
    "sentence_count_scene = [scene.count('\\n') for scene in scenes]\n",
    "print('Average number of sentences in each scene: {}'.format(np.average(sentence_count_scene)))\n",
    "\n",
    "sentences = [sentence for scene in scenes for sentence in scene.split('\\n')]\n",
    "print('Number of lines: {}'.format(len(sentences)))\n",
    "word_count_sentence = [len(sentence.split()) for sentence in sentences]\n",
    "print('Average number of words in each line: {}'.format(np.average(word_count_sentence)))\n",
    "\n",
    "print()\n",
    "print('The sentences {} to {}:'.format(*view_sentence_range))\n",
    "print('\\n'.join(text.split('\\n')[view_sentence_range[0]:view_sentence_range[1]]))"
   ]
  },
  {
   "cell_type": "markdown",
   "metadata": {
    "deletable": true,
    "editable": true
   },
   "source": [
    "## Implement Preprocessing Functions\n",
    "The first thing to do to any dataset is preprocessing.  Implement the following preprocessing functions below:\n",
    "- Lookup Table\n",
    "- Tokenize Punctuation\n",
    "\n",
    "### Lookup Table\n",
    "To create a word embedding, you first need to transform the words to ids.  In this function, create two dictionaries:\n",
    "- Dictionary to go from the words to an id, we'll call `vocab_to_int`\n",
    "- Dictionary to go from the id to word, we'll call `int_to_vocab`\n",
    "\n",
    "Return these dictionaries in the following tuple `(vocab_to_int, int_to_vocab)`"
   ]
  },
  {
   "cell_type": "code",
   "execution_count": 3,
   "metadata": {
    "collapsed": false,
    "deletable": true,
    "editable": true
   },
   "outputs": [
    {
     "name": "stdout",
     "output_type": "stream",
     "text": [
      "Tests Passed\n"
     ]
    }
   ],
   "source": [
    "import numpy as np\n",
    "import problem_unittests as tests\n",
    "\n",
    "def create_lookup_tables(text):\n",
    "    \"\"\"\n",
    "    Create lookup tables for vocabulary\n",
    "    :param text: The text of tv scripts split into words\n",
    "    :return: A tuple of dicts (vocab_to_int, int_to_vocab)\n",
    "    \"\"\"\n",
    "    # TODO: Implement Function\n",
    "    vocab = set(text) #number of classes\n",
    "    vocab_to_int = {c: i for i, c in enumerate(vocab)}\n",
    "    int_to_vocab ={i: c for i, c in enumerate(vocab)}\n",
    "    \n",
    "    return vocab_to_int, int_to_vocab\n",
    "\n",
    "\n",
    "\"\"\"\n",
    "DON'T MODIFY ANYTHING IN THIS CELL THAT IS BELOW THIS LINE\n",
    "\"\"\"\n",
    "tests.test_create_lookup_tables(create_lookup_tables)"
   ]
  },
  {
   "cell_type": "markdown",
   "metadata": {
    "deletable": true,
    "editable": true
   },
   "source": [
    "### Tokenize Punctuation\n",
    "We'll be splitting the script into a word array using spaces as delimiters.  However, punctuations like periods and exclamation marks make it hard for the neural network to distinguish between the word \"bye\" and \"bye!\".\n",
    "\n",
    "Implement the function `token_lookup` to return a dict that will be used to tokenize symbols like \"!\" into \"||Exclamation_Mark||\".  Create a dictionary for the following symbols where the symbol is the key and value is the token:\n",
    "- Period ( . )\n",
    "- Comma ( , )\n",
    "- Quotation Mark ( \" )\n",
    "- Semicolon ( ; )\n",
    "- Exclamation mark ( ! )\n",
    "- Question mark ( ? )\n",
    "- Left Parentheses ( ( )\n",
    "- Right Parentheses ( ) )\n",
    "- Dash ( -- )\n",
    "- Return ( \\n )\n",
    "\n",
    "This dictionary will be used to token the symbols and add the delimiter (space) around it.  This separates the symbols as it's own word, making it easier for the neural network to predict on the next word. Make sure you don't use a token that could be confused as a word. Instead of using the token \"dash\", try using something like \"||dash||\"."
   ]
  },
  {
   "cell_type": "code",
   "execution_count": 4,
   "metadata": {
    "collapsed": false,
    "deletable": true,
    "editable": true
   },
   "outputs": [
    {
     "name": "stdout",
     "output_type": "stream",
     "text": [
      "Tests Passed\n"
     ]
    }
   ],
   "source": [
    "def token_lookup():\n",
    "    \"\"\"\n",
    "    Generate a dict to turn punctuation into a token.\n",
    "    :return: Tokenize dictionary where the key is the punctuation and the value is the token\n",
    "    \"\"\"\n",
    "    # TODO: Implement Function\n",
    "    token = {'.':'<Period>', ',':'<Comma>', '\"':'<Quotation_Mark>', ';':'<Semicolon>', \n",
    "            '!':'<Exclamation_Mark>', '?':'<Question_Mark>', '(':'<Left_Parentheses>', ')':'<Right_Parentheses>',  \n",
    "             '--':'<Dash>', '\\n':'<Return>'}\n",
    "    return token\n",
    "\n",
    "\"\"\"\n",
    "DON'T MODIFY ANYTHING IN THIS CELL THAT IS BELOW THIS LINE\n",
    "\"\"\"\n",
    "tests.test_tokenize(token_lookup)"
   ]
  },
  {
   "cell_type": "markdown",
   "metadata": {
    "deletable": true,
    "editable": true
   },
   "source": [
    "## Preprocess all the data and save it\n",
    "Running the code cell below will preprocess all the data and save it to file."
   ]
  },
  {
   "cell_type": "code",
   "execution_count": 5,
   "metadata": {
    "collapsed": false,
    "deletable": true,
    "editable": true
   },
   "outputs": [],
   "source": [
    "\"\"\"\n",
    "DON'T MODIFY ANYTHING IN THIS CELL\n",
    "\"\"\"\n",
    "# Preprocess Training, Validation, and Testing Data\n",
    "helper.preprocess_and_save_data(data_dir, token_lookup, create_lookup_tables)"
   ]
  },
  {
   "cell_type": "markdown",
   "metadata": {
    "deletable": true,
    "editable": true
   },
   "source": [
    "# Check Point\n",
    "This is your first checkpoint. If you ever decide to come back to this notebook or have to restart the notebook, you can start from here. The preprocessed data has been saved to disk."
   ]
  },
  {
   "cell_type": "code",
   "execution_count": 6,
   "metadata": {
    "collapsed": false,
    "deletable": true,
    "editable": true
   },
   "outputs": [],
   "source": [
    "\"\"\"\n",
    "DON'T MODIFY ANYTHING IN THIS CELL\n",
    "\"\"\"\n",
    "import helper\n",
    "import numpy as np\n",
    "import problem_unittests as tests\n",
    "\n",
    "int_text, vocab_to_int, int_to_vocab, token_dict = helper.load_preprocess()"
   ]
  },
  {
   "cell_type": "markdown",
   "metadata": {
    "deletable": true,
    "editable": true
   },
   "source": [
    "## Build the Neural Network\n",
    "You'll build the components necessary to build a RNN by implementing the following functions below:\n",
    "- get_inputs\n",
    "- get_init_cell\n",
    "- get_embed\n",
    "- build_rnn\n",
    "- build_nn\n",
    "- get_batches\n",
    "\n",
    "### Check the Version of TensorFlow and Access to GPU"
   ]
  },
  {
   "cell_type": "code",
   "execution_count": 7,
   "metadata": {
    "collapsed": false,
    "deletable": true,
    "editable": true
   },
   "outputs": [
    {
     "name": "stdout",
     "output_type": "stream",
     "text": [
      "TensorFlow Version: 1.0.0\n",
      "Default GPU Device: /gpu:0\n"
     ]
    }
   ],
   "source": [
    "\"\"\"\n",
    "DON'T MODIFY ANYTHING IN THIS CELL\n",
    "\"\"\"\n",
    "from distutils.version import LooseVersion\n",
    "import warnings\n",
    "import tensorflow as tf\n",
    "\n",
    "# Check TensorFlow Version\n",
    "assert LooseVersion(tf.__version__) >= LooseVersion('1.0'), 'Please use TensorFlow version 1.0 or newer'\n",
    "print('TensorFlow Version: {}'.format(tf.__version__))\n",
    "\n",
    "# Check for a GPU\n",
    "if not tf.test.gpu_device_name():\n",
    "    warnings.warn('No GPU found. Please use a GPU to train your neural network.')\n",
    "else:\n",
    "    print('Default GPU Device: {}'.format(tf.test.gpu_device_name()))"
   ]
  },
  {
   "cell_type": "markdown",
   "metadata": {
    "deletable": true,
    "editable": true
   },
   "source": [
    "### Input\n",
    "Implement the `get_inputs()` function to create TF Placeholders for the Neural Network.  It should create the following placeholders:\n",
    "- Input text placeholder named \"input\" using the [TF Placeholder](https://www.tensorflow.org/api_docs/python/tf/placeholder) `name` parameter.\n",
    "- Targets placeholder\n",
    "- Learning Rate placeholder\n",
    "\n",
    "Return the placeholders in the following the tuple `(Input, Targets, LearingRate)`"
   ]
  },
  {
   "cell_type": "code",
   "execution_count": 8,
   "metadata": {
    "collapsed": false,
    "deletable": true,
    "editable": true
   },
   "outputs": [
    {
     "name": "stdout",
     "output_type": "stream",
     "text": [
      "Tests Passed\n"
     ]
    }
   ],
   "source": [
    "def get_inputs():\n",
    "    \"\"\"\n",
    "    Create TF Placeholders for input, targets, and learning rate.\n",
    "    :return: Tuple (input, targets, learning rate)\n",
    "    \"\"\"\n",
    "    # TODO: Implement Function\n",
    "    input = tf.placeholder(tf.int32, [None, None], name='input')\n",
    "    targets = tf.placeholder(tf.int32, [None, None], name='targets')\n",
    "    learning_rate = tf.placeholder(tf.float32, name='learning_rate')\n",
    "    return (input, targets, learning_rate)\n",
    "\n",
    "\"\"\"\n",
    "DON'T MODIFY ANYTHING IN THIS CELL THAT IS BELOW THIS LINE\n",
    "\"\"\"\n",
    "tests.test_get_inputs(get_inputs)"
   ]
  },
  {
   "cell_type": "markdown",
   "metadata": {
    "deletable": true,
    "editable": true
   },
   "source": [
    "### Build RNN Cell and Initialize\n",
    "Stack one or more [`BasicLSTMCells`](https://www.tensorflow.org/api_docs/python/tf/contrib/rnn/BasicLSTMCell) in a [`MultiRNNCell`](https://www.tensorflow.org/api_docs/python/tf/contrib/rnn/MultiRNNCell).\n",
    "- The Rnn size should be set using `rnn_size`\n",
    "- Initalize Cell State using the MultiRNNCell's [`zero_state()`](https://www.tensorflow.org/api_docs/python/tf/contrib/rnn/MultiRNNCell#zero_state) function\n",
    "    - Apply the name \"initial_state\" to the initial state using [`tf.identity()`](https://www.tensorflow.org/api_docs/python/tf/identity)\n",
    "\n",
    "Return the cell and initial state in the following tuple `(Cell, InitialState)`"
   ]
  },
  {
   "cell_type": "code",
   "execution_count": 9,
   "metadata": {
    "collapsed": false,
    "deletable": true,
    "editable": true
   },
   "outputs": [
    {
     "name": "stdout",
     "output_type": "stream",
     "text": [
      "(LSTMStateTuple(c=<tf.Tensor 'zeros:0' shape=(?, 256) dtype=float32>, h=<tf.Tensor 'zeros_1:0' shape=(?, 256) dtype=float32>),)\n",
      "Tensor(\"initial_state:0\", shape=(1, 2, ?, 256), dtype=float32)\n",
      "Tests Passed\n"
     ]
    }
   ],
   "source": [
    "def get_init_cell(batch_size, rnn_size):\n",
    "    \"\"\"\n",
    "    Create an RNN Cell and initialize it.\n",
    "    :param batch_size: Size of batches\n",
    "    :param rnn_size: Size of RNNs\n",
    "    :return: Tuple (cell, initialize state)\n",
    "    \"\"\"\n",
    "    # TODO: Implement Function\n",
    "    # Use a basic LSTM cell\n",
    "    lstm = tf.contrib.rnn.BasicLSTMCell(rnn_size)\n",
    "    cell = tf.contrib.rnn.MultiRNNCell([lstm]*1) #one layer\n",
    "    initial_state = cell.zero_state(batch_size, tf.float32)\n",
    "    print (initial_state)\n",
    "    initial_state = tf.identity(initial_state, name = 'initial_state')\n",
    "    print (initial_state)\n",
    "    return (cell, initial_state)\n",
    "\n",
    "\n",
    "\"\"\"\n",
    "DON'T MODIFY ANYTHING IN THIS CELL THAT IS BELOW THIS LINE\n",
    "\"\"\"\n",
    "tests.test_get_init_cell(get_init_cell)"
   ]
  },
  {
   "cell_type": "markdown",
   "metadata": {
    "deletable": true,
    "editable": true
   },
   "source": [
    "### Word Embedding\n",
    "Apply embedding to `input_data` using TensorFlow.  Return the embedded sequence."
   ]
  },
  {
   "cell_type": "code",
   "execution_count": 10,
   "metadata": {
    "collapsed": false,
    "deletable": true,
    "editable": true
   },
   "outputs": [
    {
     "name": "stdout",
     "output_type": "stream",
     "text": [
      "Tests Passed\n"
     ]
    }
   ],
   "source": [
    "def get_embed(input_data, vocab_size, embed_dim):\n",
    "    \"\"\"\n",
    "    Create embedding for <input_data>.\n",
    "    :param input_data: TF placeholder for text input.\n",
    "    :param vocab_size: Number of words in vocabulary.\n",
    "    :param embed_dim: Number of embedding dimensions\n",
    "    :return: Embedded input.\n",
    "    \"\"\"\n",
    "    # TODO: Implement Function\n",
    "    embedding = tf.Variable(tf.random_uniform((vocab_size, embed_dim), -1, 1))\n",
    "    embedded_input = tf.nn.embedding_lookup(embedding, input_data)\n",
    "    return embedded_input\n",
    "\n",
    "\n",
    "\"\"\"\n",
    "DON'T MODIFY ANYTHING IN THIS CELL THAT IS BELOW THIS LINE\n",
    "\"\"\"\n",
    "tests.test_get_embed(get_embed)"
   ]
  },
  {
   "cell_type": "markdown",
   "metadata": {
    "deletable": true,
    "editable": true
   },
   "source": [
    "### Build RNN\n",
    "You created a RNN Cell in the `get_init_cell()` function.  Time to use the cell to create a RNN.\n",
    "- Build the RNN using the [`tf.nn.dynamic_rnn()`](https://www.tensorflow.org/api_docs/python/tf/nn/dynamic_rnn)\n",
    " - Apply the name \"final_state\" to the final state using [`tf.identity()`](https://www.tensorflow.org/api_docs/python/tf/identity)\n",
    "\n",
    "Return the outputs and final_state state in the following tuple `(Outputs, FinalState)` "
   ]
  },
  {
   "cell_type": "code",
   "execution_count": 11,
   "metadata": {
    "collapsed": false,
    "deletable": true,
    "editable": true
   },
   "outputs": [
    {
     "name": "stdout",
     "output_type": "stream",
     "text": [
      "Tests Passed\n"
     ]
    }
   ],
   "source": [
    "def build_rnn(cell, inputs):\n",
    "    \"\"\"\n",
    "    Create a RNN using a RNN Cell\n",
    "    :param cell: RNN Cell\n",
    "    :param inputs: Input text data\n",
    "    :return: Tuple (Outputs, Final State)\n",
    "    \"\"\"\n",
    "    # TODO: Implement Function\n",
    "    outputs, final_state = tf.nn.dynamic_rnn(cell, inputs, dtype = tf.float32)\n",
    "    final_state = tf.identity(final_state, name = 'final_state')\n",
    "    return (outputs, final_state)\n",
    "\n",
    "\n",
    "\"\"\"\n",
    "DON'T MODIFY ANYTHING IN THIS CELL THAT IS BELOW THIS LINE\n",
    "\"\"\"\n",
    "tests.test_build_rnn(build_rnn)"
   ]
  },
  {
   "cell_type": "markdown",
   "metadata": {
    "deletable": true,
    "editable": true
   },
   "source": [
    "### Build the Neural Network\n",
    "Apply the functions you implemented above to:\n",
    "- Apply embedding to `input_data` using your `get_embed(input_data, vocab_size, embed_dim)` function.\n",
    "- Build RNN using `cell` and your `build_rnn(cell, inputs)` function.\n",
    "- Apply a fully connected layer with a linear activation and `vocab_size` as the number of outputs.\n",
    "\n",
    "Return the logits and final state in the following tuple (Logits, FinalState) "
   ]
  },
  {
   "cell_type": "code",
   "execution_count": 12,
   "metadata": {
    "collapsed": false,
    "deletable": true,
    "editable": true
   },
   "outputs": [
    {
     "name": "stdout",
     "output_type": "stream",
     "text": [
      "Tensor(\"strided_slice:0\", shape=(128, 5, 256), dtype=float32)\n",
      "Tests Passed\n"
     ]
    }
   ],
   "source": [
    "def build_nn(cell, rnn_size, input_data, vocab_size):\n",
    "    \"\"\"\n",
    "    Build part of the neural network\n",
    "    :param cell: RNN cell\n",
    "    :param rnn_size: Size of rnns\n",
    "    :param input_data: Input data\n",
    "    :param vocab_size: Vocabulary size\n",
    "    :return: Tuple (Logits, FinalState)\n",
    "    \"\"\"\n",
    "    # TODO: Implement Function\n",
    "    embedded_input = get_embed(input_data, vocab_size, embed_dim = rnn_size) #what ground are for setting embed_dim = rnn_size\n",
    "    outputs, final_state = build_rnn(cell, embedded_input)\n",
    "    print (outputs[:])\n",
    "    #logits = tf.contrib.layers.fully_connected(outputs[:], vocab_size, activation_fn = None)\n",
    "    \n",
    "    #with weight initilizer\n",
    "    logits = tf.contrib.layers.fully_connected(outputs, vocab_size, activation_fn=None, weights_initializer = tf.truncated_normal_initializer(stddev=0.05),\n",
    "                                               biases_initializer=tf.zeros_initializer())\n",
    "    \n",
    "    return (logits, final_state)\n",
    "\n",
    "\n",
    "\"\"\"\n",
    "DON'T MODIFY ANYTHING IN THIS CELL THAT IS BELOW THIS LINE\n",
    "\"\"\"\n",
    "tests.test_build_nn(build_nn)"
   ]
  },
  {
   "cell_type": "markdown",
   "metadata": {
    "deletable": true,
    "editable": true
   },
   "source": [
    "### Batches\n",
    "Implement `get_batches` to create batches of input and targets using `int_text`.  The batches should be a Numpy array with the shape `(number of batches, 2, batch size, sequence length)`. Each batch contains two elements:\n",
    "- The first element is a single batch of **input** with the shape `[batch size, sequence length]`\n",
    "- The second element is a single batch of **targets** with the shape `[batch size, sequence length]`\n",
    "\n",
    "If you can't fill the last batch with enough data, drop the last batch.\n",
    "\n",
    "For exmple, `get_batches([1, 2, 3, 4, 5, 6, 7, 8, 9, 10, 11, 12, 13, 14, 15], 2, 3)` would return a Numpy array of the following:\n",
    "```\n",
    "[\n",
    "  # First Batch\n",
    "  [\n",
    "    # Batch of Input\n",
    "    [[ 1  2  3], [ 7  8  9]],\n",
    "    # Batch of targets\n",
    "    [[ 2  3  4], [ 8  9 10]]\n",
    "  ],\n",
    " \n",
    "  # Second Batch\n",
    "  [\n",
    "    # Batch of Input\n",
    "    [[ 4  5  6], [10 11 12]],\n",
    "    # Batch of targets\n",
    "    [[ 5  6  7], [11 12 13]]\n",
    "  ]\n",
    "]\n",
    "```"
   ]
  },
  {
   "cell_type": "code",
   "execution_count": 13,
   "metadata": {
    "collapsed": false,
    "deletable": true,
    "editable": true
   },
   "outputs": [
    {
     "name": "stdout",
     "output_type": "stream",
     "text": [
      "Tests Passed\n"
     ]
    }
   ],
   "source": [
    "def get_batches(int_text, batch_size, seq_length):\n",
    "    \"\"\"\n",
    "    Return batches of input and target\n",
    "    :param int_text: Text with the words replaced by their ids\n",
    "    :param batch_size: The size of batch\n",
    "    :param seq_length: The length of sequence\n",
    "    :return: Batches as a Numpy array\n",
    "    \"\"\"\n",
    "    # number of batches\n",
    "    n_batches = len(int_text)//(batch_size*seq_length)\n",
    "    \n",
    "    #only full batches and drop remainning elements\n",
    "    int_text = int_text[:n_batches*batch_size*seq_length+1]\n",
    "    \n",
    "    # Initialize result & calculate skip distance\n",
    "    result=np.ndarray(shape=(n_batches,2,batch_size,seq_length), dtype=int)\n",
    "    skipdistance = n_batches*seq_length\n",
    "    \n",
    "    # First loop steps at batch_size * seq_length\n",
    "    for b in range(n_batches):\n",
    "        batch_idx = b*seq_length\n",
    "        x , y= [], []\n",
    "        for bb in range(batch_size):\n",
    "            idx = batch_idx + (bb*skipdistance) # get starting index for batch\n",
    "            x_idx = idx\n",
    "            y_idx = idx+1          \n",
    "            result[b][0][bb] = int_text[x_idx:x_idx+seq_length]\n",
    "            result[b][1][bb] = int_text[y_idx:y_idx+seq_length]\n",
    "            \n",
    "    return result\n",
    "\n",
    "\n",
    "\"\"\"\n",
    "DON'T MODIFY ANYTHING IN THIS CELL THAT IS BELOW THIS LINE\n",
    "\"\"\"\n",
    "tests.test_get_batches(get_batches)"
   ]
  },
  {
   "cell_type": "markdown",
   "metadata": {
    "deletable": true,
    "editable": true
   },
   "source": [
    "## Neural Network Training\n",
    "### Hyperparameters\n",
    "Tune the following parameters:\n",
    "\n",
    "- Set `num_epochs` to the number of epochs.\n",
    "- Set `batch_size` to the batch size.\n",
    "- Set `rnn_size` to the size of the RNNs.\n",
    "- Set `seq_length` to the length of sequence.\n",
    "- Set `learning_rate` to the learning rate.\n",
    "- Set `show_every_n_batches` to the number of batches the neural network should print progress."
   ]
  },
  {
   "cell_type": "code",
   "execution_count": 17,
   "metadata": {
    "collapsed": true,
    "deletable": true,
    "editable": true
   },
   "outputs": [],
   "source": [
    "# Number of Epochs\n",
    "num_epochs = 50\n",
    "# Batch Size\n",
    "batch_size = 128\n",
    "# RNN Size\n",
    "rnn_size = 512\n",
    "# Sequence Length\n",
    "seq_length = 36\n",
    "# Learning Rate\n",
    "learning_rate = 0.01\n",
    "# Show stats for every n number of batches\n",
    "show_every_n_batches = 10\n",
    "\n",
    "\"\"\"\n",
    "DON'T MODIFY ANYTHING IN THIS CELL THAT IS BELOW THIS LINE\n",
    "\"\"\"\n",
    "save_dir = './save'"
   ]
  },
  {
   "cell_type": "markdown",
   "metadata": {
    "deletable": true,
    "editable": true
   },
   "source": [
    "### Build the Graph\n",
    "Build the graph using the neural network you implemented."
   ]
  },
  {
   "cell_type": "code",
   "execution_count": 19,
   "metadata": {
    "collapsed": false,
    "deletable": true,
    "editable": true
   },
   "outputs": [
    {
     "name": "stdout",
     "output_type": "stream",
     "text": [
      "(LSTMStateTuple(c=<tf.Tensor 'zeros:0' shape=(?, 512) dtype=float32>, h=<tf.Tensor 'zeros_1:0' shape=(?, 512) dtype=float32>),)\n",
      "Tensor(\"initial_state:0\", shape=(1, 2, ?, 512), dtype=float32)\n",
      "Tensor(\"strided_slice_1:0\", shape=(?, ?, 512), dtype=float32)\n"
     ]
    }
   ],
   "source": [
    "\"\"\"\n",
    "DON'T MODIFY ANYTHING IN THIS CELL\n",
    "\"\"\"\n",
    "from tensorflow.contrib import seq2seq\n",
    "\n",
    "train_graph = tf.Graph()\n",
    "with train_graph.as_default():\n",
    "    vocab_size = len(int_to_vocab)\n",
    "    input_text, targets, lr = get_inputs()\n",
    "    input_data_shape = tf.shape(input_text)\n",
    "    cell, initial_state = get_init_cell(input_data_shape[0], rnn_size)\n",
    "    logits, final_state = build_nn(cell, rnn_size, input_text, vocab_size)\n",
    "\n",
    "    # Probabilities for generating words\n",
    "    probs = tf.nn.softmax(logits, name='probs')\n",
    "\n",
    "    # Loss function\n",
    "    cost = seq2seq.sequence_loss(\n",
    "        logits,\n",
    "        targets,\n",
    "        tf.ones([input_data_shape[0], input_data_shape[1]]))\n",
    "\n",
    "    # Optimizer\n",
    "    optimizer = tf.train.AdamOptimizer(lr)\n",
    "\n",
    "    # Gradient Clipping\n",
    "    gradients = optimizer.compute_gradients(cost)\n",
    "    capped_gradients = [(tf.clip_by_value(grad, -1., 1.), var) for grad, var in gradients]\n",
    "    train_op = optimizer.apply_gradients(capped_gradients)"
   ]
  },
  {
   "cell_type": "markdown",
   "metadata": {
    "deletable": true,
    "editable": true
   },
   "source": [
    "## Train\n",
    "Train the neural network on the preprocessed data.  If you have a hard time getting a good loss, check the [forms](https://discussions.udacity.com/) to see if anyone is having the same problem."
   ]
  },
  {
   "cell_type": "code",
   "execution_count": 18,
   "metadata": {
    "collapsed": false,
    "deletable": true,
    "editable": true
   },
   "outputs": [
    {
     "name": "stdout",
     "output_type": "stream",
     "text": [
      "Epoch   0 Batch    0/14   train_loss = 8.822\n",
      "Epoch   0 Batch   10/14   train_loss = 6.161\n",
      "Epoch   1 Batch    6/14   train_loss = 5.216\n",
      "Epoch   2 Batch    2/14   train_loss = 4.692\n",
      "Epoch   2 Batch   12/14   train_loss = 4.289\n",
      "Epoch   3 Batch    8/14   train_loss = 3.943\n",
      "Epoch   4 Batch    4/14   train_loss = 3.530\n",
      "Epoch   5 Batch    0/14   train_loss = 3.301\n",
      "Epoch   5 Batch   10/14   train_loss = 3.129\n",
      "Epoch   6 Batch    6/14   train_loss = 2.855\n",
      "Epoch   7 Batch    2/14   train_loss = 2.655\n",
      "Epoch   7 Batch   12/14   train_loss = 2.490\n",
      "Epoch   8 Batch    8/14   train_loss = 2.332\n",
      "Epoch   9 Batch    4/14   train_loss = 2.123\n",
      "Epoch  10 Batch    0/14   train_loss = 1.959\n",
      "Epoch  10 Batch   10/14   train_loss = 1.771\n",
      "Epoch  11 Batch    6/14   train_loss = 1.607\n",
      "Epoch  12 Batch    2/14   train_loss = 1.503\n",
      "Epoch  12 Batch   12/14   train_loss = 1.396\n",
      "Epoch  13 Batch    8/14   train_loss = 1.328\n",
      "Epoch  14 Batch    4/14   train_loss = 1.207\n",
      "Epoch  15 Batch    0/14   train_loss = 1.067\n",
      "Epoch  15 Batch   10/14   train_loss = 1.034\n",
      "Epoch  16 Batch    6/14   train_loss = 0.971\n",
      "Epoch  17 Batch    2/14   train_loss = 0.885\n",
      "Epoch  17 Batch   12/14   train_loss = 0.884\n",
      "Epoch  18 Batch    8/14   train_loss = 0.845\n",
      "Epoch  19 Batch    4/14   train_loss = 0.871\n",
      "Epoch  20 Batch    0/14   train_loss = 0.779\n",
      "Epoch  20 Batch   10/14   train_loss = 0.676\n",
      "Epoch  21 Batch    6/14   train_loss = 0.584\n",
      "Epoch  22 Batch    2/14   train_loss = 0.536\n",
      "Epoch  22 Batch   12/14   train_loss = 0.491\n",
      "Epoch  23 Batch    8/14   train_loss = 0.440\n",
      "Epoch  24 Batch    4/14   train_loss = 0.404\n",
      "Epoch  25 Batch    0/14   train_loss = 0.330\n",
      "Epoch  25 Batch   10/14   train_loss = 0.294\n",
      "Epoch  26 Batch    6/14   train_loss = 0.260\n",
      "Epoch  27 Batch    2/14   train_loss = 0.260\n",
      "Epoch  27 Batch   12/14   train_loss = 0.245\n",
      "Epoch  28 Batch    8/14   train_loss = 0.244\n",
      "Epoch  29 Batch    4/14   train_loss = 0.230\n",
      "Epoch  30 Batch    0/14   train_loss = 0.188\n",
      "Epoch  30 Batch   10/14   train_loss = 0.178\n",
      "Epoch  31 Batch    6/14   train_loss = 0.180\n",
      "Epoch  32 Batch    2/14   train_loss = 0.211\n",
      "Epoch  32 Batch   12/14   train_loss = 0.208\n",
      "Epoch  33 Batch    8/14   train_loss = 0.173\n",
      "Epoch  34 Batch    4/14   train_loss = 0.149\n",
      "Epoch  35 Batch    0/14   train_loss = 0.132\n",
      "Epoch  35 Batch   10/14   train_loss = 0.112\n",
      "Epoch  36 Batch    6/14   train_loss = 0.099\n",
      "Epoch  37 Batch    2/14   train_loss = 0.101\n",
      "Epoch  37 Batch   12/14   train_loss = 0.104\n",
      "Epoch  38 Batch    8/14   train_loss = 0.092\n",
      "Epoch  39 Batch    4/14   train_loss = 0.088\n",
      "Epoch  40 Batch    0/14   train_loss = 0.089\n",
      "Epoch  40 Batch   10/14   train_loss = 0.082\n",
      "Epoch  41 Batch    6/14   train_loss = 0.079\n",
      "Epoch  42 Batch    2/14   train_loss = 0.082\n",
      "Epoch  42 Batch   12/14   train_loss = 0.090\n",
      "Epoch  43 Batch    8/14   train_loss = 0.082\n",
      "Epoch  44 Batch    4/14   train_loss = 0.077\n",
      "Epoch  45 Batch    0/14   train_loss = 0.081\n",
      "Epoch  45 Batch   10/14   train_loss = 0.076\n",
      "Epoch  46 Batch    6/14   train_loss = 0.073\n",
      "Epoch  47 Batch    2/14   train_loss = 0.078\n",
      "Epoch  47 Batch   12/14   train_loss = 0.086\n",
      "Epoch  48 Batch    8/14   train_loss = 0.079\n",
      "Epoch  49 Batch    4/14   train_loss = 0.074\n",
      "Model Trained and Saved\n"
     ]
    }
   ],
   "source": [
    "\"\"\"\n",
    "DON'T MODIFY ANYTHING IN THIS CELL\n",
    "\"\"\"\n",
    "batches = get_batches(int_text, batch_size, seq_length)\n",
    "\n",
    "with tf.Session(graph=train_graph) as sess:\n",
    "    sess.run(tf.global_variables_initializer())\n",
    "\n",
    "    for epoch_i in range(num_epochs):\n",
    "        state = sess.run(initial_state, {input_text: batches[0][0]})\n",
    "\n",
    "        for batch_i, (x, y) in enumerate(batches):\n",
    "            feed = {\n",
    "                input_text: x,\n",
    "                targets: y,\n",
    "                initial_state: state,\n",
    "                lr: learning_rate}\n",
    "            train_loss, state, _ = sess.run([cost, final_state, train_op], feed)\n",
    "\n",
    "            # Show every <show_every_n_batches> batches\n",
    "            if (epoch_i * len(batches) + batch_i) % show_every_n_batches == 0:\n",
    "                print('Epoch {:>3} Batch {:>4}/{}   train_loss = {:.3f}'.format(\n",
    "                    epoch_i,\n",
    "                    batch_i,\n",
    "                    len(batches),\n",
    "                    train_loss))\n",
    "\n",
    "    # Save Model\n",
    "    saver = tf.train.Saver()\n",
    "    saver.save(sess, save_dir)\n",
    "    print('Model Trained and Saved')"
   ]
  },
  {
   "cell_type": "markdown",
   "metadata": {
    "deletable": true,
    "editable": true
   },
   "source": [
    "## Save Parameters\n",
    "Save `seq_length` and `save_dir` for generating a new TV script."
   ]
  },
  {
   "cell_type": "code",
   "execution_count": 20,
   "metadata": {
    "collapsed": false,
    "deletable": true,
    "editable": true
   },
   "outputs": [],
   "source": [
    "\"\"\"\n",
    "DON'T MODIFY ANYTHING IN THIS CELL\n",
    "\"\"\"\n",
    "# Save parameters for checkpoint\n",
    "helper.save_params((seq_length, save_dir))"
   ]
  },
  {
   "cell_type": "markdown",
   "metadata": {
    "deletable": true,
    "editable": true
   },
   "source": [
    "# Checkpoint"
   ]
  },
  {
   "cell_type": "code",
   "execution_count": 21,
   "metadata": {
    "collapsed": false,
    "deletable": true,
    "editable": true
   },
   "outputs": [],
   "source": [
    "\"\"\"\n",
    "DON'T MODIFY ANYTHING IN THIS CELL\n",
    "\"\"\"\n",
    "import tensorflow as tf\n",
    "import numpy as np\n",
    "import helper\n",
    "import problem_unittests as tests\n",
    "\n",
    "_, vocab_to_int, int_to_vocab, token_dict = helper.load_preprocess()\n",
    "seq_length, load_dir = helper.load_params()"
   ]
  },
  {
   "cell_type": "markdown",
   "metadata": {
    "deletable": true,
    "editable": true
   },
   "source": [
    "## Implement Generate Functions\n",
    "### Get Tensors\n",
    "Get tensors from `loaded_graph` using the function [`get_tensor_by_name()`](https://www.tensorflow.org/api_docs/python/tf/Graph#get_tensor_by_name).  Get the tensors using the following names:\n",
    "- \"input:0\"\n",
    "- \"initial_state:0\"\n",
    "- \"final_state:0\"\n",
    "- \"probs:0\"\n",
    "\n",
    "Return the tensors in the following tuple `(InputTensor, InitialStateTensor, FinalStateTensor, ProbsTensor)` "
   ]
  },
  {
   "cell_type": "code",
   "execution_count": 22,
   "metadata": {
    "collapsed": false,
    "deletable": true,
    "editable": true
   },
   "outputs": [
    {
     "name": "stdout",
     "output_type": "stream",
     "text": [
      "Tests Passed\n"
     ]
    }
   ],
   "source": [
    "def get_tensors(loaded_graph):\n",
    "    \"\"\"\n",
    "    Get input, initial state, final state, and probabilities tensor from <loaded_graph>\n",
    "    :param loaded_graph: TensorFlow graph loaded from file\n",
    "    :return: Tuple (InputTensor, InitialStateTensor, FinalStateTensor, ProbsTensor)\n",
    "    \"\"\"\n",
    "    # TODO: Implement Function\n",
    "    InputTensor = loaded_graph.get_tensor_by_name(\"input:0\")\n",
    "    InitialStateTensor = loaded_graph.get_tensor_by_name(\"initial_state:0\")\n",
    "    FinalStateTensor = loaded_graph.get_tensor_by_name(\"final_state:0\")\n",
    "    ProbsTensor = loaded_graph.get_tensor_by_name(\"probs:0\")\n",
    "    \n",
    "    return(InputTensor, InitialStateTensor, FinalStateTensor, ProbsTensor)\n",
    "\n",
    "\n",
    "\"\"\"\n",
    "DON'T MODIFY ANYTHING IN THIS CELL THAT IS BELOW THIS LINE\n",
    "\"\"\"\n",
    "tests.test_get_tensors(get_tensors)"
   ]
  },
  {
   "cell_type": "markdown",
   "metadata": {
    "deletable": true,
    "editable": true
   },
   "source": [
    "### Choose Word\n",
    "Implement the `pick_word()` function to select the next word using `probabilities`."
   ]
  },
  {
   "cell_type": "code",
   "execution_count": 31,
   "metadata": {
    "collapsed": false,
    "deletable": true,
    "editable": true
   },
   "outputs": [
    {
     "name": "stdout",
     "output_type": "stream",
     "text": [
      "[ 0.1   0.8   0.05  0.05]\n",
      "Tests Passed\n"
     ]
    }
   ],
   "source": [
    "def pick_word(probabilities, int_to_vocab):\n",
    "    \"\"\"\n",
    "    Pick the next word in the generated text\n",
    "    :param probabilities: Probabilites of the next word\n",
    "    :param int_to_vocab: Dictionary of word ids as the keys and words as the values\n",
    "    :return: String of the predicted word\n",
    "    \"\"\"\n",
    "    # TODO: Implement Function\n",
    "    print(probabilities)\n",
    "    choice = np.random.choice(probabilities[probabilities >= (np.amin(probabilities)+np.amax(probabilities))/2], 1)\n",
    "    for ix, prob in enumerate(probabilities):\n",
    "        if prob == choice:\n",
    "            next_word = ix\n",
    "            break # take the first word with that probability\n",
    "\n",
    "    return int_to_vocab[next_word]\n",
    "\n",
    "\n",
    "\"\"\"\n",
    "DON'T MODIFY ANYTHING IN THIS CELL THAT IS BELOW THIS LINE\n",
    "\"\"\"\n",
    "tests.test_pick_word(pick_word)"
   ]
  },
  {
   "cell_type": "markdown",
   "metadata": {
    "deletable": true,
    "editable": true
   },
   "source": [
    "## Generate TV Script\n",
    "This will generate the TV script for you.  Set `gen_length` to the length of TV script you want to generate."
   ]
  },
  {
   "cell_type": "code",
   "execution_count": 32,
   "metadata": {
    "collapsed": false,
    "deletable": true,
    "editable": true
   },
   "outputs": [
    {
     "name": "stdout",
     "output_type": "stream",
     "text": [
      "[  2.93860182e-07   1.10121924e-07   8.27699637e-07 ...,   8.24746778e-08\n",
      "   3.85036515e-07   1.20719648e-07]\n",
      "[  5.25050142e-11   4.17320963e-13   1.92850618e-12 ...,   3.22675046e-13\n",
      "   1.57823656e-12   1.93664889e-08]\n",
      "[  1.71236358e-10   8.16695545e-10   3.69036925e-08 ...,   4.65737726e-10\n",
      "   4.30269997e-09   5.44669065e-09]\n",
      "[  1.15777030e-13   4.42884865e-14   9.01560524e-14 ...,   5.23812391e-14\n",
      "   4.06764119e-12   2.29790544e-11]\n",
      "[  6.67848832e-11   4.77966222e-10   3.43270390e-09 ...,   2.75705958e-10\n",
      "   5.07311038e-09   2.75967943e-10]\n",
      "[  3.42437537e-11   3.63167552e-11   2.03788861e-11 ...,   1.38031218e-11\n",
      "   6.21078839e-12   1.76377427e-10]\n",
      "[  1.44292231e-10   3.78875264e-10   1.39124365e-10 ...,   1.01847718e-10\n",
      "   4.70069716e-09   3.24117599e-09]\n",
      "[  1.40787305e-16   1.42870807e-16   1.05957374e-15 ...,   9.57777873e-17\n",
      "   7.51406645e-11   2.13730444e-12]\n",
      "[  4.29545496e-11   2.36025210e-11   1.63189948e-10 ...,   1.00324566e-11\n",
      "   3.54170848e-09   7.61454885e-07]\n",
      "[  9.73674006e-12   3.79900077e-13   2.55824001e-10 ...,   2.43064629e-13\n",
      "   7.97604427e-10   3.61942920e-09]\n",
      "[  8.59431762e-11   5.74895643e-12   8.79337492e-08 ...,   7.72393260e-12\n",
      "   6.74973744e-10   4.52525434e-10]\n",
      "[  5.98316729e-10   1.54900176e-10   1.03335367e-06 ...,   1.15548023e-10\n",
      "   2.47824095e-10   1.77332780e-12]\n",
      "[  1.22152397e-13   1.17098388e-12   1.42947640e-10 ...,   7.61046987e-13\n",
      "   5.75024028e-10   3.53485280e-13]\n",
      "[  7.08721222e-13   1.42571993e-14   1.08025507e-11 ...,   8.17701297e-15\n",
      "   1.66446787e-11   1.89382520e-11]\n",
      "[  4.83368102e-11   1.74696507e-10   2.17622222e-08 ...,   1.04759285e-10\n",
      "   9.73355796e-09   3.82947840e-11]\n",
      "[  6.09748840e-12   6.20048370e-12   2.85006259e-08 ...,   8.79855650e-12\n",
      "   1.09032507e-08   2.47414111e-09]\n",
      "[  5.33317945e-10   5.86587862e-11   3.80507231e-07 ...,   6.88040250e-11\n",
      "   1.05080149e-08   8.65561285e-14]\n",
      "[  7.46058922e-13   5.80790570e-14   1.04950235e-08 ...,   4.55056321e-14\n",
      "   4.81050400e-08   1.32453076e-12]\n",
      "[  9.79974972e-14   5.72205857e-13   1.04280806e-09 ...,   2.44857709e-13\n",
      "   1.12455307e-08   9.42103548e-11]\n",
      "[  1.26167870e-11   2.48611444e-11   1.72197714e-10 ...,   7.45667243e-12\n",
      "   1.30451197e-08   4.64171812e-10]\n",
      "[  1.45878865e-11   3.62378981e-11   4.22258388e-08 ...,   2.13960048e-11\n",
      "   1.76755165e-07   8.40334380e-09]\n",
      "[  2.17791497e-13   1.17838135e-11   3.27067284e-09 ...,   1.13970864e-11\n",
      "   8.66748735e-08   4.36359082e-09]\n",
      "[  1.01288578e-11   8.76156699e-12   5.39944381e-07 ...,   6.68018722e-12\n",
      "   1.35277219e-07   2.31768424e-10]\n",
      "[  3.92560333e-12   5.24996930e-13   4.94582286e-09 ...,   2.21102704e-13\n",
      "   3.21053906e-10   4.12507610e-08]\n",
      "[  2.04692947e-11   6.93961693e-14   4.04174860e-10 ...,   5.06354466e-14\n",
      "   2.83434110e-10   1.43124373e-10]\n",
      "[  1.04154534e-08   1.00513618e-10   3.67130292e-06 ...,   1.33588571e-10\n",
      "   1.87734912e-08   1.01168574e-09]\n",
      "[  8.47266535e-10   9.51277807e-11   3.64946516e-07 ...,   1.51854085e-10\n",
      "   4.85751439e-10   4.32612453e-11]\n",
      "[  4.04495963e-13   1.61614930e-13   1.96022546e-15 ...,   1.67714475e-13\n",
      "   1.83653881e-09   7.41824657e-11]\n",
      "[  9.54855292e-11   1.18452177e-13   1.90938002e-10 ...,   1.48271098e-13\n",
      "   3.32293221e-11   6.47068120e-14]\n",
      "[  5.93391425e-09   1.06703951e-10   1.11291087e-07 ...,   1.18862614e-10\n",
      "   6.90757840e-10   1.11398330e-11]\n",
      "[  4.63938610e-10   1.15276755e-11   7.21384552e-09 ...,   1.00536393e-11\n",
      "   1.64234876e-11   3.06850656e-10]\n",
      "[  2.27706512e-15   8.37365972e-16   1.63877809e-13 ...,   6.18078248e-16\n",
      "   1.25076968e-14   1.89449655e-17]\n",
      "[  2.33019674e-15   1.07291786e-13   1.42520951e-14 ...,   7.57206391e-14\n",
      "   3.17626585e-11   5.35800076e-14]\n",
      "[  9.50565321e-11   3.43260077e-12   9.51021900e-12 ...,   6.68428095e-13\n",
      "   1.39454420e-11   2.25605038e-12]\n",
      "[  9.97022603e-11   5.12991351e-11   6.49098386e-10 ...,   5.89846089e-11\n",
      "   7.35668326e-09   1.07349676e-08]\n",
      "[  6.78968171e-09   2.43475570e-11   1.21039498e-10 ...,   1.87618358e-11\n",
      "   1.71599249e-10   2.04475104e-08]\n",
      "[  1.54621838e-09   3.75439298e-11   4.15778190e-10 ...,   1.65415980e-11\n",
      "   1.82319241e-07   1.01732923e-07]\n",
      "[  3.44111243e-07   2.10557405e-10   3.42660041e-06 ...,   1.64163141e-10\n",
      "   1.94336938e-08   8.71205259e-08]\n",
      "[  1.24486962e-06   1.96739709e-08   9.31207296e-07 ...,   2.51866812e-08\n",
      "   1.73954486e-08   2.58119542e-07]\n",
      "[  2.95370065e-13   9.95347468e-13   2.00732556e-10 ...,   1.22313607e-12\n",
      "   1.39883410e-10   9.38527034e-12]\n",
      "[  3.91337861e-14   2.28927138e-11   1.45266490e-11 ...,   3.31170126e-11\n",
      "   7.98618727e-10   3.31199984e-10]\n",
      "[  8.71842953e-09   4.13793133e-09   3.40973449e-09 ...,   1.18959631e-09\n",
      "   1.15088543e-08   3.73288209e-08]\n",
      "[  2.25817098e-09   1.12795346e-08   1.13958265e-07 ...,   1.43698404e-08\n",
      "   3.97894922e-07   3.98670949e-07]\n",
      "[  3.08105097e-10   1.92691978e-12   3.05722244e-12 ...,   1.01770144e-12\n",
      "   1.01132845e-10   2.82219692e-10]\n",
      "[  2.93962854e-09   1.89973060e-09   2.07083790e-08 ...,   1.21818589e-09\n",
      "   2.36400055e-09   4.98658551e-07]\n",
      "[  1.31648680e-13   4.37427980e-13   2.29434223e-12 ...,   1.71755961e-13\n",
      "   1.05512887e-09   5.33083681e-11]\n",
      "[  6.15031048e-09   1.08626941e-09   1.20894530e-08 ...,   8.18727752e-10\n",
      "   4.43346505e-11   2.30182771e-08]\n",
      "[  1.18605443e-13   3.08660172e-12   4.98847306e-15 ...,   2.10734598e-12\n",
      "   6.06298085e-12   5.39444288e-11]\n",
      "[  4.17629202e-13   5.07166954e-13   1.25005605e-12 ...,   3.51182354e-13\n",
      "   8.81070997e-12   2.66564215e-10]\n",
      "[  4.08836506e-11   2.85702573e-11   1.43645149e-08 ...,   3.23771843e-11\n",
      "   2.78183060e-10   1.64938466e-10]\n",
      "[  1.46627458e-17   1.62331249e-13   3.90859708e-13 ...,   1.70930585e-13\n",
      "   3.15236448e-11   6.10822330e-12]\n",
      "[  4.90657348e-10   1.08677588e-10   8.03225486e-10 ...,   4.55920475e-11\n",
      "   1.09554824e-10   3.80723869e-10]\n",
      "[  9.67227132e-11   1.71911652e-10   2.62689817e-08 ...,   2.55254595e-10\n",
      "   1.63093787e-08   1.72947390e-09]\n",
      "[  4.78206852e-09   5.14687147e-11   2.13645146e-09 ...,   3.36413362e-11\n",
      "   2.11752088e-10   1.34242359e-08]\n",
      "[  4.50534277e-13   1.34358711e-13   6.72909645e-12 ...,   1.79686927e-13\n",
      "   1.61482860e-09   7.89831203e-15]\n",
      "[  1.83021385e-08   2.51220746e-11   2.63624078e-09 ...,   2.99039543e-11\n",
      "   3.55123397e-09   1.20924288e-12]\n",
      "[  6.10584716e-13   1.46361985e-11   2.97171815e-10 ...,   2.86819839e-11\n",
      "   4.08453671e-09   1.32229756e-08]\n",
      "[  8.73527292e-11   8.05152056e-10   3.14064792e-08 ...,   7.66832098e-10\n",
      "   2.98111544e-08   2.43383802e-09]\n",
      "[  2.70313025e-12   3.67720004e-12   3.58794239e-09 ...,   1.27694144e-12\n",
      "   3.60411567e-09   2.99059499e-10]\n",
      "[  3.69519221e-10   1.87587126e-10   2.47332519e-08 ...,   1.62591343e-10\n",
      "   6.31385111e-10   2.57246313e-09]\n",
      "[  1.47455858e-15   8.28854197e-14   6.49354659e-12 ...,   1.00210855e-13\n",
      "   5.12856736e-11   5.83552026e-11]\n",
      "[  2.99759067e-12   2.14231913e-11   2.19220606e-08 ...,   2.29760169e-11\n",
      "   7.26332194e-09   1.61446478e-09]\n",
      "[  2.36192576e-12   1.44826373e-10   1.32611241e-10 ...,   2.59357064e-10\n",
      "   2.52705206e-07   7.67519078e-13]\n",
      "[  2.67721587e-12   2.72275587e-11   6.63156197e-11 ...,   2.13251031e-11\n",
      "   2.29658497e-11   4.90230853e-16]\n",
      "[  7.89466203e-13   5.92584107e-11   4.25778076e-12 ...,   6.86053922e-11\n",
      "   1.33992817e-09   5.37113485e-14]\n",
      "[  2.75082818e-10   3.13671200e-10   2.26667837e-10 ...,   2.14730109e-10\n",
      "   3.50177887e-10   2.71779150e-16]\n",
      "[  1.14789043e-19   1.17603676e-17   6.10318010e-17 ...,   7.63459829e-18\n",
      "   1.22244820e-14   1.36366333e-19]\n",
      "[  1.84045453e-14   6.23313467e-12   3.46602575e-13 ...,   4.16994867e-12\n",
      "   2.06250919e-10   1.38813013e-14]\n",
      "[  2.79862960e-12   2.92573084e-12   1.61894098e-12 ...,   8.68537393e-13\n",
      "   1.27613354e-11   6.55450087e-13]\n",
      "[  3.16153437e-10   1.32751324e-10   7.05477845e-08 ...,   9.33991981e-11\n",
      "   2.06026285e-09   9.06671682e-10]\n",
      "[  1.34216162e-11   1.22237142e-11   6.53437082e-10 ...,   1.06502090e-11\n",
      "   7.90360388e-10   2.02606140e-10]\n",
      "[  1.07215154e-15   2.53515809e-14   1.40403533e-09 ...,   2.35645599e-14\n",
      "   2.68919609e-11   6.38114995e-13]\n",
      "[  6.99736547e-13   6.27928048e-13   3.24840183e-10 ...,   5.67996008e-13\n",
      "   1.38171352e-09   9.06549823e-16]\n",
      "[  8.15375489e-10   1.13496344e-10   6.15837337e-09 ...,   1.00710738e-10\n",
      "   6.07176460e-08   3.07840938e-13]\n",
      "[  9.79906417e-07   1.13798785e-06   2.63261128e-08 ...,   4.64714589e-07\n",
      "   1.03046532e-05   4.33181824e-11]\n",
      "[  1.36948319e-09   6.60107924e-09   1.22391686e-09 ...,   5.79815218e-09\n",
      "   1.10302130e-06   1.94663508e-10]\n",
      "[  2.10129070e-09   2.01085371e-08   9.74625824e-10 ...,   7.45458362e-09\n",
      "   9.54147552e-08   7.10707070e-07]\n",
      "[  1.14114194e-08   3.55742014e-09   2.30290439e-10 ...,   1.62110325e-09\n",
      "   2.74385792e-10   1.64364064e-10]\n",
      "[  3.95165807e-14   9.66640136e-12   2.75491760e-13 ...,   8.32952717e-12\n",
      "   1.86866550e-10   2.24795710e-10]\n",
      "[  2.68679850e-14   3.64724798e-13   3.49458656e-11 ...,   2.14035576e-13\n",
      "   1.23800067e-10   4.98640296e-10]\n",
      "[  1.16488083e-10   2.41060083e-09   1.31962480e-07 ...,   1.65552294e-09\n",
      "   2.44108492e-07   1.18385373e-08]\n",
      "[  3.18965787e-09   1.01622988e-09   5.36828702e-06 ...,   8.43810910e-10\n",
      "   4.74883421e-09   2.69159559e-14]\n",
      "[  6.34545888e-12   1.03492822e-11   9.72942907e-12 ...,   1.16582915e-11\n",
      "   8.91805740e-10   1.04782373e-13]\n",
      "[  1.82203102e-13   1.09538576e-11   1.44658299e-10 ...,   1.55793833e-11\n",
      "   2.20440555e-09   7.04953179e-11]\n",
      "[  2.87518151e-14   1.76215935e-13   5.14761671e-11 ...,   1.90772677e-13\n",
      "   1.12968038e-10   1.75349093e-11]\n",
      "[  4.73581452e-11   1.12307419e-09   3.36880532e-08 ...,   1.10529152e-09\n",
      "   1.43106718e-07   3.25405675e-10]\n",
      "[  9.50006133e-13   1.68063466e-14   9.18730261e-13 ...,   1.55110503e-14\n",
      "   3.10947101e-12   8.24184742e-15]\n",
      "[  1.16764343e-09   1.08593374e-08   7.21727460e-08 ...,   9.18158261e-09\n",
      "   3.02101824e-07   3.35665974e-11]\n",
      "[  7.58659357e-14   6.23478569e-12   8.37917149e-12 ...,   7.10466668e-12\n",
      "   1.59660965e-10   2.90483458e-13]\n",
      "[  3.11189358e-18   4.12545872e-15   1.95643033e-15 ...,   4.69117382e-15\n",
      "   1.68182883e-12   7.45586657e-14]\n",
      "[  1.34826834e-14   2.91739533e-13   2.71358370e-11 ...,   1.74839418e-13\n",
      "   3.76170796e-11   3.78441853e-12]\n",
      "[  3.29421413e-14   2.93254874e-12   8.02007072e-11 ...,   1.81070295e-12\n",
      "   2.55033938e-10   6.66612273e-13]\n",
      "[  3.45705714e-10   6.22985413e-11   2.08686832e-10 ...,   3.43888459e-11\n",
      "   8.21259311e-11   6.44679514e-13]\n",
      "[  6.65072830e-10   2.87666091e-09   2.30007601e-07 ...,   3.38241835e-09\n",
      "   1.08436279e-06   3.16526467e-08]\n",
      "[  4.39677808e-12   8.83089361e-15   3.74063031e-13 ...,   6.00542251e-15\n",
      "   1.80947629e-12   3.25783428e-10]\n",
      "[  1.00606401e-09   1.12294085e-09   5.45152901e-08 ...,   8.93474794e-10\n",
      "   1.42217589e-08   2.02253347e-09]\n",
      "[  1.18406438e-13   2.34258142e-13   2.35118132e-12 ...,   1.98084035e-13\n",
      "   8.88431662e-10   8.07596524e-12]\n",
      "[  5.84948160e-13   8.68561993e-12   8.80510456e-11 ...,   9.18825432e-12\n",
      "   4.06337231e-09   4.48308306e-08]\n",
      "[  1.24745034e-10   1.91823821e-10   1.98587742e-08 ...,   2.09867110e-10\n",
      "   3.06720871e-09   1.90625701e-06]\n",
      "[  6.07142225e-10   7.70356209e-11   2.01600003e-09 ...,   1.09703337e-10\n",
      "   2.41651005e-10   4.24549000e-08]\n",
      "[  4.93533170e-16   2.70293740e-15   1.38921513e-12 ...,   1.44489188e-15\n",
      "   1.48632304e-11   1.85416176e-13]\n",
      "[  2.27650426e-10   3.37879585e-10   1.50107002e-08 ...,   3.68842068e-10\n",
      "   6.73786527e-10   1.98889727e-09]\n",
      "[  1.16169578e-14   5.51822346e-12   1.12080116e-10 ...,   1.13704662e-11\n",
      "   8.88183127e-09   4.39673076e-10]\n",
      "[  7.57345738e-13   3.04231597e-12   1.54039299e-11 ...,   2.36971076e-12\n",
      "   8.36712477e-10   2.00201100e-07]\n",
      "[  1.32130062e-09   7.40894124e-10   1.96645411e-09 ...,   2.55389682e-10\n",
      "   2.30354882e-08   6.47123119e-11]\n",
      "[  1.05592171e-13   1.73959046e-12   1.93554200e-11 ...,   6.52449720e-13\n",
      "   1.92279392e-09   6.31900079e-08]\n",
      "[  1.83812882e-12   5.37298591e-12   2.54434168e-10 ...,   1.91665238e-12\n",
      "   4.51461134e-12   6.86587853e-08]\n",
      "[  6.35606043e-13   1.16524342e-11   1.80053433e-12 ...,   6.33220169e-12\n",
      "   4.48522020e-09   5.30014851e-11]\n",
      "[  6.12185228e-16   1.69051124e-14   6.43241360e-14 ...,   1.58232548e-14\n",
      "   4.74679801e-12   3.02817528e-11]\n",
      "[  9.25653026e-11   1.77151210e-11   3.47341080e-11 ...,   6.06162212e-12\n",
      "   6.43235576e-10   9.34609855e-12]\n",
      "[  2.60281244e-13   1.14484984e-12   4.03713196e-13 ...,   6.30548023e-13\n",
      "   3.71903675e-10   1.24985824e-13]\n",
      "[  2.70689998e-11   9.13664630e-12   9.82043526e-12 ...,   4.88451857e-12\n",
      "   1.16193383e-11   1.62542755e-12]\n",
      "[  1.47824850e-10   1.51154367e-11   9.29809474e-09 ...,   1.50512242e-11\n",
      "   2.16987273e-09   1.22285448e-09]\n",
      "[  3.60293522e-12   9.71882758e-14   1.02346635e-14 ...,   3.40783106e-14\n",
      "   5.55409919e-11   4.45181358e-09]\n",
      "[  7.28265670e-10   8.10638501e-11   2.58964583e-08 ...,   6.65816638e-11\n",
      "   5.78613637e-08   5.71416798e-08]\n",
      "[  4.92534728e-11   5.55954718e-12   2.83276123e-08 ...,   4.09646102e-12\n",
      "   3.02052078e-10   3.51706442e-09]\n",
      "[  1.04032283e-09   1.48765389e-10   4.26347269e-09 ...,   1.19841331e-10\n",
      "   5.96183436e-10   5.60188562e-10]\n",
      "[  8.96400842e-10   7.20750326e-12   4.77452713e-13 ...,   3.06900490e-12\n",
      "   3.25583982e-09   2.26151625e-10]\n",
      "[  4.85606577e-09   3.41226943e-11   1.27141533e-10 ...,   1.55412246e-11\n",
      "   8.32198310e-08   3.15274598e-08]\n",
      "[  6.27611352e-10   1.70825437e-10   1.30058993e-07 ...,   2.47674520e-10\n",
      "   1.71967940e-07   1.82493011e-06]\n",
      "[  6.45301483e-08   4.98967356e-09   3.34864570e-04 ...,   2.83303225e-09\n",
      "   4.44729018e-08   2.62392490e-07]\n",
      "[  8.90772043e-08   4.21144053e-09   3.15333345e-05 ...,   4.20453850e-09\n",
      "   3.70510378e-07   1.07148921e-07]\n",
      "[  7.86117482e-08   1.31759048e-09   1.79227172e-05 ...,   1.80220738e-09\n",
      "   2.28464057e-08   2.41844091e-08]\n",
      "[  7.24221377e-11   8.40785948e-12   8.99709907e-09 ...,   9.79547780e-12\n",
      "   1.27786726e-09   8.54256998e-10]\n",
      "[  2.61409519e-13   3.09769002e-13   1.09918272e-11 ...,   3.88769420e-13\n",
      "   2.25213195e-10   6.95396865e-11]\n",
      "[  7.37586658e-09   6.03730954e-10   3.39133436e-07 ...,   3.01207947e-10\n",
      "   3.08412353e-08   3.88463706e-09]\n",
      "[  5.05171405e-10   5.45705842e-11   8.08002554e-10 ...,   1.48959629e-11\n",
      "   2.75097591e-06   1.05821227e-10]\n",
      "[  4.34083081e-09   4.92443530e-10   2.20357592e-07 ...,   3.47286450e-10\n",
      "   7.13951787e-09   2.88101071e-11]\n",
      "[  1.71155349e-07   6.97857629e-08   2.97378850e-08 ...,   4.37855796e-08\n",
      "   2.17421302e-07   3.98818585e-14]\n",
      "[  3.10156763e-15   2.18141104e-14   5.51235744e-15 ...,   2.39732872e-14\n",
      "   3.94240578e-11   1.16005743e-18]\n",
      "[  2.43775845e-14   2.00102074e-13   8.71343882e-12 ...,   1.29839146e-13\n",
      "   2.57482591e-10   2.57718535e-09]\n",
      "[  5.23113748e-08   4.36615022e-10   2.82878823e-08 ...,   1.34823028e-10\n",
      "   3.67545411e-10   1.17426247e-09]\n",
      "[  2.05325890e-09   2.68250955e-09   7.64300765e-08 ...,   2.34703412e-09\n",
      "   1.90784044e-06   8.13334111e-08]\n",
      "[  1.30222929e-07   1.88698834e-08   5.83110193e-07 ...,   1.70031935e-08\n",
      "   1.75725623e-09   2.49843535e-10]\n",
      "[  4.29968994e-12   9.52090767e-11   1.10184382e-10 ...,   6.32799646e-11\n",
      "   5.90620781e-12   2.73828543e-10]\n",
      "[  8.24400492e-16   1.58751823e-13   6.39740539e-13 ...,   5.96147684e-14\n",
      "   4.60666553e-13   1.08475284e-10]\n",
      "[  8.67902375e-13   1.14739143e-12   3.97009763e-14 ...,   1.25175944e-12\n",
      "   9.15706400e-11   1.71677104e-12]\n",
      "[  4.97998809e-10   1.00993414e-09   1.41240600e-12 ...,   4.17284957e-10\n",
      "   1.07646564e-07   5.06284181e-10]\n",
      "[  3.07152002e-14   3.28993102e-16   9.03125719e-19 ...,   1.12625127e-16\n",
      "   2.68874732e-11   3.69862662e-14]\n",
      "[  6.61658991e-11   2.60623988e-12   1.46806243e-12 ...,   2.38515132e-12\n",
      "   2.34786530e-11   7.83701326e-10]\n",
      "[  2.61522783e-11   1.53819336e-11   1.42628659e-10 ...,   3.65614353e-12\n",
      "   1.12713539e-09   4.72085704e-11]\n",
      "[  9.96343240e-14   2.91816896e-12   7.73603566e-13 ...,   1.46661437e-12\n",
      "   9.95786675e-10   1.38766776e-08]\n",
      "[  2.15294733e-08   2.28656746e-10   2.55774193e-08 ...,   9.39354428e-11\n",
      "   2.54580783e-08   1.29307925e-12]\n",
      "[  2.76474288e-10   3.38482922e-11   1.35539868e-13 ...,   7.22582237e-12\n",
      "   4.45754836e-07   3.34927968e-13]\n",
      "[  2.55840749e-09   2.71585243e-09   1.46949004e-08 ...,   4.00441769e-09\n",
      "   3.87695678e-07   6.43888779e-05]\n",
      "[  1.02948469e-10   4.52138160e-10   6.29155110e-08 ...,   1.95901059e-10\n",
      "   1.21886643e-07   2.96973080e-12]\n",
      "[  1.32000222e-09   2.14610485e-09   9.27291932e-09 ...,   2.18728968e-09\n",
      "   7.17636908e-07   1.51843604e-08]\n",
      "[  7.18514484e-11   4.07059542e-12   1.12957525e-11 ...,   3.50087646e-12\n",
      "   2.43079388e-08   2.78118915e-08]\n",
      "[  4.26875140e-08   2.45391050e-08   2.48989318e-06 ...,   3.09569153e-08\n",
      "   2.44271714e-08   1.04552802e-08]\n",
      "[  4.42188064e-10   4.84821128e-10   4.99012914e-11 ...,   6.70910605e-10\n",
      "   3.69473896e-10   5.11607987e-12]\n",
      "[  1.26681677e-11   2.56514879e-11   8.34690927e-10 ...,   4.90330866e-11\n",
      "   8.85097418e-09   1.89984828e-09]\n",
      "[  1.17492301e-11   1.12075862e-10   4.45985160e-09 ...,   1.96264172e-10\n",
      "   6.64477939e-09   3.73615618e-11]\n",
      "[  1.06304597e-10   1.94968175e-09   3.60940824e-08 ...,   8.29017477e-09\n",
      "   7.70857241e-06   7.21466313e-06]\n",
      "[  2.21164761e-13   2.30686672e-13   2.07634430e-12 ...,   2.40991472e-13\n",
      "   4.90350196e-08   6.74649898e-13]\n",
      "[  5.09907672e-10   1.24549690e-10   4.14338536e-10 ...,   1.73583994e-10\n",
      "   2.08775419e-09   1.08965004e-09]\n",
      "[  6.49637375e-12   7.82486576e-11   1.72395761e-11 ...,   1.05962739e-10\n",
      "   1.33299616e-09   3.37391952e-13]\n",
      "[  2.63145291e-16   7.46267621e-15   4.06754139e-13 ...,   1.16391229e-14\n",
      "   5.08988728e-12   8.79487195e-12]\n",
      "[  2.00931546e-14   1.64824220e-12   6.33899617e-13 ...,   1.54329121e-12\n",
      "   1.80840409e-08   1.09051932e-08]\n",
      "[  7.11447568e-11   4.89960780e-11   4.28983157e-07 ...,   3.20389652e-11\n",
      "   2.30837465e-08   5.53367518e-10]\n",
      "[  1.62920816e-10   9.32863162e-12   1.13663017e-08 ...,   8.44950845e-12\n",
      "   2.90650976e-11   4.81792242e-08]\n",
      "[  2.11964835e-10   1.64716608e-11   2.72960143e-09 ...,   1.33074940e-11\n",
      "   2.67099232e-09   1.25976549e-10]\n",
      "[  1.74862620e-07   4.71069894e-09   2.59056687e-09 ...,   3.77257603e-09\n",
      "   1.39128069e-08   2.96858366e-06]\n",
      "[  8.15003398e-10   1.89846958e-10   2.60967923e-08 ...,   1.33329667e-10\n",
      "   9.08435827e-10   6.51772364e-13]\n",
      "[  7.06452508e-10   1.41646680e-10   6.96763619e-11 ...,   2.12608847e-10\n",
      "   3.11193404e-10   5.29659697e-14]\n",
      "[  2.53299904e-13   4.03991348e-14   1.63006053e-10 ...,   6.18289802e-14\n",
      "   2.05965332e-11   6.90210736e-12]\n",
      "[  2.87619375e-13   1.81703404e-12   5.32577671e-13 ...,   1.04451018e-12\n",
      "   3.20215210e-09   1.13163159e-08]\n",
      "[  1.04830189e-09   1.52155885e-10   2.73923689e-10 ...,   2.90385199e-11\n",
      "   1.61991121e-09   1.92447933e-11]\n",
      "[  1.20147233e-13   4.17233262e-11   1.31457456e-10 ...,   1.37082845e-11\n",
      "   4.77148854e-09   2.95834299e-12]\n",
      "[  8.92765237e-11   1.21646998e-11   4.07214124e-11 ...,   4.89518625e-12\n",
      "   8.86500161e-12   3.75728448e-10]\n",
      "[  2.68819522e-10   4.12045294e-11   5.64173187e-11 ...,   1.69862700e-11\n",
      "   5.30722299e-10   2.90288557e-11]\n",
      "[  6.76320322e-18   8.43159674e-18   1.61484597e-15 ...,   4.50691507e-18\n",
      "   5.06626407e-11   3.05368844e-17]\n",
      "[  1.67834653e-08   1.83266059e-11   5.94618221e-08 ...,   1.67160313e-11\n",
      "   5.74527592e-10   2.37633210e-13]\n",
      "[  1.55115162e-14   8.78663190e-14   1.48189176e-12 ...,   9.81946797e-14\n",
      "   2.85401147e-10   3.42798287e-18]\n",
      "[  5.37688027e-09   2.28153399e-10   6.22088237e-07 ...,   2.28149916e-10\n",
      "   3.47535756e-09   2.79698817e-14]\n",
      "[  7.84091847e-10   4.44886183e-10   1.64495418e-06 ...,   3.17754267e-10\n",
      "   9.35696853e-10   7.14124549e-12]\n",
      "[  4.44967934e-12   4.39806733e-11   1.38929206e-08 ...,   1.29249805e-11\n",
      "   8.37101943e-10   1.53807224e-13]\n",
      "[  1.74957908e-13   7.20652661e-12   1.97405547e-12 ...,   1.06856963e-11\n",
      "   4.74062567e-09   7.93374810e-11]\n",
      "[  7.04972842e-12   2.77654505e-12   4.04449674e-09 ...,   1.88446828e-12\n",
      "   9.90589055e-10   1.78840498e-10]\n",
      "[  2.66937965e-11   2.19080188e-11   1.03807549e-08 ...,   2.05391901e-11\n",
      "   5.54151336e-10   2.02001571e-09]\n",
      "[  1.41547473e-12   8.62877139e-14   3.36176226e-11 ...,   1.03378515e-13\n",
      "   2.81511259e-10   9.84048190e-11]\n",
      "[  1.49605413e-08   4.88517171e-10   3.15125249e-07 ...,   4.13301143e-10\n",
      "   4.02229000e-10   1.63226355e-09]\n",
      "[  7.43232702e-15   2.43875260e-13   8.94030740e-14 ...,   2.77481407e-13\n",
      "   2.23632557e-09   1.88651654e-07]\n",
      "[  1.96886929e-09   5.36486799e-10   1.15378907e-06 ...,   5.86108384e-10\n",
      "   1.24246631e-08   2.34760051e-08]\n",
      "[  1.20455445e-06   7.64759704e-08   7.38954841e-05 ...,   1.81477446e-07\n",
      "   2.45749834e-05   8.19193792e-06]\n",
      "[  8.06098122e-09   4.88841606e-11   1.50202784e-08 ...,   3.83958976e-11\n",
      "   1.49830612e-07   5.48197931e-10]\n",
      "[  4.94983776e-10   2.30054933e-10   1.42361922e-09 ...,   1.42109255e-10\n",
      "   1.58695468e-06   4.89500973e-09]\n",
      "[  2.19915045e-16   4.46051023e-15   1.53408305e-13 ...,   1.88480501e-15\n",
      "   7.23382595e-12   1.52778033e-11]\n",
      "[  3.03392034e-11   1.99920375e-11   2.25376356e-10 ...,   4.95042505e-12\n",
      "   4.87896078e-11   1.81607778e-12]\n",
      "[  1.01181626e-10   2.15290188e-10   1.16874290e-07 ...,   2.44085141e-10\n",
      "   2.22104557e-08   2.04371666e-08]\n",
      "[  6.11639052e-07   9.68303766e-08   1.37847474e-06 ...,   7.25239815e-08\n",
      "   2.44577092e-09   1.36623701e-09]\n",
      "[  7.45167309e-19   5.69158040e-18   2.94081024e-21 ...,   2.31533582e-18\n",
      "   3.93056639e-17   7.36211259e-17]\n",
      "[  4.08681899e-12   8.99146990e-12   2.60881566e-10 ...,   6.79256955e-12\n",
      "   2.68734979e-10   2.49409982e-06]\n",
      "[  9.22909457e-11   1.17022425e-09   5.53352919e-10 ...,   7.06377568e-10\n",
      "   4.48010518e-09   6.51031132e-06]\n",
      "[  1.30063488e-10   5.39917000e-11   2.32563562e-13 ...,   3.04806180e-11\n",
      "   5.18083854e-10   1.15481578e-06]\n",
      "[  3.33185085e-13   9.02586762e-13   1.65295243e-11 ...,   5.45229064e-13\n",
      "   2.14110923e-10   1.16301122e-10]\n",
      "[  3.48708978e-10   2.45791443e-10   3.95367489e-10 ...,   1.23459062e-10\n",
      "   9.35162503e-10   2.89674449e-06]\n",
      "[  2.65382378e-12   1.04346766e-11   2.31687824e-13 ...,   8.03323640e-12\n",
      "   4.99349506e-10   8.48933174e-13]\n",
      "[  2.36050668e-09   1.66754377e-09   2.32713834e-10 ...,   1.11548393e-09\n",
      "   1.88280391e-09   9.45932879e-06]\n",
      "[  3.61885848e-15   2.86374792e-14   2.48193393e-14 ...,   1.51341562e-14\n",
      "   1.61985036e-10   1.26039104e-14]\n",
      "[  7.55686680e-10   2.15125182e-10   2.74746159e-09 ...,   2.09973122e-10\n",
      "   6.12670181e-09   1.13617076e-11]\n",
      "moe_szyslak: yeah, yeah, i've been meanin' to get that updated, uh, for this state, and real. now let's see the poster boy for the new moe-lennium.\n",
      "moe_szyslak: they put is a dude.\n",
      "moe_szyslak: hey, put a coaster under that.\n",
      "moe_szyslak: so come on. i need a name that says friendly, all-american cooking.\n",
      "homer_simpson: how about chairman moe's magic, i just... also sleep... g'night, mommy...\n",
      "moe_szyslak: sorry, homer. i was born a snake-handler and i'll die a snake-handler.\n",
      "\n",
      "\n",
      "homer_simpson: moe, have you ever felt. just that the one guy who shouldn't in an accident.\n",
      "moe_szyslak:(holding up strips) eggshell? no. malabar ivory. someone smells like a big company and he had a big company. now we have a very big company.\n",
      "hans: we are interested in buying the power plant. do you think the owner of your best friend?\n",
      "moe_szyslak:(sighs) i didn't want to have to do this.\n"
     ]
    }
   ],
   "source": [
    "gen_length = 200\n",
    "# homer_simpson, moe_szyslak, or Barney_Gumble\n",
    "prime_word = 'moe_szyslak'\n",
    "\n",
    "\"\"\"\n",
    "DON'T MODIFY ANYTHING IN THIS CELL THAT IS BELOW THIS LINE\n",
    "\"\"\"\n",
    "loaded_graph = tf.Graph()\n",
    "with tf.Session(graph=loaded_graph) as sess:\n",
    "    # Load saved model\n",
    "    loader = tf.train.import_meta_graph(load_dir + '.meta')\n",
    "    loader.restore(sess, load_dir)\n",
    "\n",
    "    # Get Tensors from loaded model\n",
    "    input_text, initial_state, final_state, probs = get_tensors(loaded_graph)\n",
    "\n",
    "    # Sentences generation setup\n",
    "    gen_sentences = [prime_word + ':']\n",
    "    prev_state = sess.run(initial_state, {input_text: np.array([[1]])})\n",
    "\n",
    "    # Generate sentences\n",
    "    for n in range(gen_length):\n",
    "        # Dynamic Input\n",
    "        dyn_input = [[vocab_to_int[word] for word in gen_sentences[-seq_length:]]]\n",
    "        dyn_seq_length = len(dyn_input[0])\n",
    "\n",
    "        # Get Prediction\n",
    "        probabilities, prev_state = sess.run(\n",
    "            [probs, final_state],\n",
    "            {input_text: dyn_input, initial_state: prev_state})\n",
    "        \n",
    "        pred_word = pick_word(probabilities[dyn_seq_length-1], int_to_vocab)\n",
    "\n",
    "        gen_sentences.append(pred_word)\n",
    "    \n",
    "    # Remove tokens\n",
    "    tv_script = ' '.join(gen_sentences)\n",
    "    for key, token in token_dict.items():\n",
    "        ending = ' ' if key in ['\\n', '(', '\"'] else ''\n",
    "        tv_script = tv_script.replace(' ' + token.lower(), key)\n",
    "    tv_script = tv_script.replace('\\n ', '\\n')\n",
    "    tv_script = tv_script.replace('( ', '(')\n",
    "        \n",
    "    print(tv_script)"
   ]
  },
  {
   "cell_type": "markdown",
   "metadata": {
    "deletable": true,
    "editable": true
   },
   "source": [
    "# The TV Script is Nonsensical\n",
    "It's ok if the TV script doesn't make any sense.  We trained on less than a megabyte of text.  In order to get good results, you'll have to use a smaller vocabulary or get more data.  Luckly there's more data!  As we mentioned in the begging of this project, this is a subset of [another dataset](https://www.kaggle.com/wcukierski/the-simpsons-by-the-data).  We didn't have you train on all the data, because that would take too long.  However, you are free to train your neural network on all the data.  After you complete the project, of course.\n",
    "# Submitting This Project\n",
    "When submitting this project, make sure to run all the cells before saving the notebook. Save the notebook file as \"dlnd_tv_script_generation.ipynb\" and save it as a HTML file under \"File\" -> \"Download as\". Include the \"helper.py\" and \"problem_unittests.py\" files in your submission."
   ]
  }
 ],
 "metadata": {
  "kernelspec": {
   "display_name": "Python [default]",
   "language": "python",
   "name": "python3"
  },
  "language_info": {
   "codemirror_mode": {
    "name": "ipython",
    "version": 3
   },
   "file_extension": ".py",
   "mimetype": "text/x-python",
   "name": "python",
   "nbconvert_exporter": "python",
   "pygments_lexer": "ipython3",
   "version": "3.6.1"
  },
  "widgets": {
   "state": {},
   "version": "1.1.2"
  }
 },
 "nbformat": 4,
 "nbformat_minor": 0
}
